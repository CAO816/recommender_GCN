{
 "cells": [
  {
   "cell_type": "markdown",
   "metadata": {},
   "source": [
    "### Import thư viện"
   ]
  },
  {
   "cell_type": "code",
   "execution_count": 599,
   "metadata": {
    "id": "3c2jCjtGqWgc"
   },
   "outputs": [],
   "source": [
    "import pandas as pd\n",
    "import numpy as np\n",
    "import torch\n",
    "from sklearn.preprocessing import LabelEncoder\n",
    "from sklearn.model_selection import train_test_split\n",
    "from sklearn.preprocessing import StandardScaler, MinMaxScaler\n",
    "import torch.nn.functional as F\n",
    "from torch_geometric.nn import GCNConv\n",
    "import torch.optim as optim\n",
    "import matplotlib.pyplot as plt\n",
    "from torch_geometric.loader import DataLoader\n",
    "from torch_geometric.data import Data\n",
    "from collections import Counter\n",
    "from sklearn.metrics.pairwise import cosine_similarity\n",
    "from sklearn.metrics import accuracy_score, f1_score, precision_score, recall_score"
   ]
  },
  {
   "cell_type": "markdown",
   "metadata": {
    "id": "f87wbx6iqWgd"
   },
   "source": [
    "### Chuẩn bị dữ liệu"
   ]
  },
  {
   "cell_type": "code",
   "execution_count": 600,
   "metadata": {},
   "outputs": [],
   "source": [
    "u_cols = ['user_id', 'age', 'sex', 'occupation', 'zip_code']\n",
    "users = pd.read_csv('ml-100k/u.user', sep='|', names=u_cols, encoding='latin-1')\n",
    "users['user_id']=users['user_id']-1\n",
    "\n",
    "i_cols = ['movie_id', 'movie_title', 'release_date', 'video_release_date', 'IMBd_URL', 'unknown', 'Action', 'Adventure',\n",
    "          'Animation', 'Children', 'Comedy', 'Crime', 'Documentary', 'Drama', 'Fantasy', 'Firm-Noir', 'Horror', 'Musical', 'Mystery', 'Romance', 'Sci-Fi', 'Thriller', 'War', 'Western']\n",
    "items = pd.read_csv('ml-100k/u.item', sep='|', names=i_cols, encoding='latin-1')\n",
    "items['movie_id']=items['movie_id']-1\n",
    "genre_list = [\n",
    "    'unknown', 'Action', 'Adventure', 'Animation', \"Children\", 'Comedy', 'Crime', 'Documentary', \n",
    "    'Drama', 'Fantasy', 'Firm-Noir', 'Horror', 'Musical', 'Mystery', 'Romance', 'Sci-Fi', \n",
    "    'Thriller', 'War', 'Western'\n",
    "]\n",
    "\n",
    "r_cols = ['user_id', 'movie_id', 'rating', 'timestamp']\n",
    "ratings = pd.read_csv('ml-100k/u.data', sep='\\t', names =  r_cols, encoding='latin-1')\n",
    "ratings['user_id']=ratings['user_id']-1\n",
    "ratings['movie_id']=ratings['movie_id']-1"
   ]
  },
  {
   "cell_type": "markdown",
   "metadata": {},
   "source": [
    "- Load dữ liệu từ MovieLens 100K dataset gồm 3 file: users, items, ratings\n",
    "- Điều chỉnh index của user_id và movie_id bắt đầu từ 0"
   ]
  },
  {
   "cell_type": "markdown",
   "metadata": {},
   "source": [
    "### Tiền xử lý dữ liệu, xây dựng đặc trưng"
   ]
  },
  {
   "cell_type": "code",
   "execution_count": 601,
   "metadata": {},
   "outputs": [
    {
     "name": "stdout",
     "output_type": "stream",
     "text": [
      "tensor([[0., 1., 0., 0., 0., 0., 1., 0., 0., 0., 0., 0., 0., 0., 0., 0., 0., 0.,\n",
      "         0., 0., 0., 0., 0., 0., 0., 0., 1., 0.],\n",
      "        [0., 0., 0., 1., 0., 1., 0., 0., 0., 0., 0., 0., 0., 0., 0., 0., 0., 0.,\n",
      "         0., 0., 1., 0., 0., 0., 0., 0., 0., 0.],\n",
      "        [0., 1., 0., 0., 0., 0., 1., 0., 0., 0., 0., 0., 0., 0., 0., 0., 0., 0.,\n",
      "         0., 0., 0., 0., 0., 0., 0., 0., 0., 1.],\n",
      "        [0., 1., 0., 0., 0., 0., 1., 0., 0., 0., 0., 0., 0., 0., 0., 0., 0., 0.,\n",
      "         0., 0., 0., 0., 0., 0., 0., 0., 1., 0.],\n",
      "        [0., 0., 1., 0., 0., 1., 0., 0., 0., 0., 0., 0., 0., 0., 0., 0., 0., 0.,\n",
      "         0., 0., 1., 0., 0., 0., 0., 0., 0., 0.]])\n",
      "torch.Size([943, 28])\n"
     ]
    }
   ],
   "source": [
    "label_encoder = LabelEncoder()\n",
    "users['sex'] = label_encoder.fit_transform(users['sex'])\n",
    "users['occupation'] = label_encoder.fit_transform(users['occupation'])\n",
    "bins = [0, 18, 30, 45, 60, 150]\n",
    "labels = list(range(len(bins)-1))\n",
    "users['age'] = pd.cut(users['age'], bins=bins, labels=labels, right=False)\n",
    "\n",
    "user_features = pd.get_dummies(users, columns=['age', 'sex', 'occupation'])\n",
    "\n",
    "user_features = user_features.drop(['user_id', 'zip_code'], axis=1).astype(float)\n",
    "user_features = torch.tensor(user_features.values, dtype=torch.float)\n",
    "print(user_features[:5])\n",
    "print(user_features.shape)"
   ]
  },
  {
   "cell_type": "code",
   "execution_count": 602,
   "metadata": {},
   "outputs": [
    {
     "name": "stdout",
     "output_type": "stream",
     "text": [
      "tensor([[0., 0., 0., 1., 1., 1., 0., 0., 0., 0., 0., 0., 0., 0., 0., 0., 0., 0.,\n",
      "         0.],\n",
      "        [0., 1., 1., 0., 0., 0., 0., 0., 0., 0., 0., 0., 0., 0., 0., 0., 1., 0.,\n",
      "         0.],\n",
      "        [0., 0., 0., 0., 0., 0., 0., 0., 0., 0., 0., 0., 0., 0., 0., 0., 1., 0.,\n",
      "         0.],\n",
      "        [0., 1., 0., 0., 0., 1., 0., 0., 1., 0., 0., 0., 0., 0., 0., 0., 0., 0.,\n",
      "         0.],\n",
      "        [0., 0., 0., 0., 0., 0., 1., 0., 1., 0., 0., 0., 0., 0., 0., 0., 1., 0.,\n",
      "         0.]])\n",
      "torch.Size([1682, 19])\n"
     ]
    }
   ],
   "source": [
    "item_features = items.to_numpy()\n",
    "item_features = item_features[:, -19:]\n",
    "item_features = item_features.astype(float)\n",
    "item_features = torch.tensor(item_features, dtype=torch.float)\n",
    "print(item_features[:5])\n",
    "print(item_features.shape)"
   ]
  },
  {
   "cell_type": "code",
   "execution_count": 603,
   "metadata": {},
   "outputs": [],
   "source": [
    "ratings['timestamp'] = pd.to_datetime(ratings['timestamp'], unit='s')\n",
    "ratings['day_of_week'] = ratings['timestamp'].dt.dayofweek\n",
    "ratings['hour'] = ratings['timestamp'].dt.hour\n",
    "ratings['time_of_day'] = pd.cut(ratings['hour'],\n",
    "                                bins=[0, 6, 12, 18, 24],\n",
    "                                labels=[0, 1, 2, 3],\n",
    "                                include_lowest=True)\n",
    "ratings['month'] = ratings['timestamp'].dt.month\n",
    "ratings['is_weekend'] = ratings['day_of_week'].isin([5, 6]).astype(int)\n",
    "ratings['season'] = pd.cut(ratings['month'], \n",
    "                                bins=[0, 3, 6, 9, 12], \n",
    "                                labels=[0,1,2,3])"
   ]
  },
  {
   "cell_type": "code",
   "execution_count": 604,
   "metadata": {},
   "outputs": [],
   "source": [
    "def extract_context_features(ratings):\n",
    "    day_of_week_ohe = pd.get_dummies(ratings['day_of_week'], prefix='day_of_week')\n",
    "    time_of_day_ohe = pd.get_dummies(ratings['time_of_day'], prefix='time_of_day')\n",
    "    month_ohe = pd.get_dummies(ratings['month'], prefix='month')\n",
    "    is_weekend_ohe = pd.get_dummies(ratings['is_weekend'], prefix='is_weekend')\n",
    "    season_ohe = pd.get_dummies(ratings['season'], prefix='season')\n",
    "    context_features = pd.concat([day_of_week_ohe, time_of_day_ohe, month_ohe, is_weekend_ohe, season_ohe], axis=1)\n",
    "\n",
    "    context_features = torch.tensor(context_features.values, dtype=torch.float)\n",
    "    return context_features"
   ]
  },
  {
   "cell_type": "code",
   "execution_count": 605,
   "metadata": {},
   "outputs": [
    {
     "name": "stdout",
     "output_type": "stream",
     "text": [
      "tensor([[0., 0., 0., 1., 0., 0., 0., 0., 0., 1., 0., 0., 0., 0., 0., 0., 0., 0.,\n",
      "         1., 1., 0., 0., 0., 0., 1.],\n",
      "        [0., 0., 0., 0., 0., 1., 0., 0., 0., 0., 1., 0., 0., 0., 1., 0., 0., 0.,\n",
      "         0., 0., 1., 0., 1., 0., 0.],\n",
      "        [0., 0., 0., 0., 1., 0., 0., 0., 1., 0., 0., 0., 0., 0., 0., 0., 0., 1.,\n",
      "         0., 1., 0., 0., 0., 0., 1.],\n",
      "        [0., 0., 0., 1., 0., 0., 0., 1., 0., 0., 0., 0., 0., 0., 0., 0., 0., 1.,\n",
      "         0., 1., 0., 0., 0., 0., 1.],\n",
      "        [1., 0., 0., 0., 0., 0., 0., 1., 0., 0., 0., 0., 1., 0., 0., 0., 0., 0.,\n",
      "         0., 1., 0., 1., 0., 0., 0.]])\n"
     ]
    },
    {
     "data": {
      "text/plain": [
       "torch.Size([100000, 25])"
      ]
     },
     "execution_count": 605,
     "metadata": {},
     "output_type": "execute_result"
    }
   ],
   "source": [
    "context_features = extract_context_features(ratings)\n",
    "print(context_features[:5])\n",
    "context_features.shape"
   ]
  },
  {
   "cell_type": "code",
   "execution_count": 606,
   "metadata": {},
   "outputs": [],
   "source": [
    "\n",
    "num_users = user_features.shape[0]\n",
    "num_items = item_features.shape[0]\n",
    "NUM_USER=num_users\n"
   ]
  },
  {
   "cell_type": "code",
   "execution_count": 607,
   "metadata": {},
   "outputs": [],
   "source": [
    "feature_matrix = torch.zeros((num_users + num_items, user_features.shape[1] + item_features.shape[1]))\n",
    "feature_matrix[:num_users, :user_features.shape[1]] = user_features\n",
    "feature_matrix[num_users:, user_features.shape[1]:] = item_features"
   ]
  },
  {
   "cell_type": "code",
   "execution_count": 608,
   "metadata": {},
   "outputs": [],
   "source": [
    "num_features=feature_matrix.shape[1]"
   ]
  },
  {
   "cell_type": "markdown",
   "metadata": {},
   "source": [
    "### Xây dựng Graph"
   ]
  },
  {
   "cell_type": "markdown",
   "metadata": {},
   "source": [
    "- Tạo đồ thị tương tác giữa users và items\n",
    "- Xây dựng ma trận kề và thuộc tính cạnh\n",
    "- Chia dữ liệu thành train/val/test"
   ]
  },
  {
   "cell_type": "code",
   "execution_count": 609,
   "metadata": {},
   "outputs": [],
   "source": [
    "def create_interaction_graph(ratings, features):\n",
    "    # Tạo ma trận kết nối sparse hiệu quả\n",
    "    user_ids = ratings['user_id'].values\n",
    "    item_ids = ratings['movie_id'].values + num_users\n",
    "    ratings_values = ratings['rating'].values\n",
    "            \n",
    "    # Tạo edge_index\n",
    "    edge_index = torch.tensor([\n",
    "        np.concatenate([user_ids, item_ids]),\n",
    "        np.concatenate([item_ids, user_ids])\n",
    "    ], dtype=torch.long)\n",
    "    \n",
    "    # Tạo edge_attr\n",
    "    edge_attr = torch.tensor(\n",
    "        np.concatenate([ratings_values, ratings_values]), \n",
    "        dtype=torch.float\n",
    "    )\n",
    "    # Tạo PyTorch Geometric Data\n",
    "    graph_data = Data(\n",
    "        x=features, \n",
    "        edge_index=edge_index, \n",
    "        edge_attr=edge_attr\n",
    "    )\n",
    "    \n",
    "    return graph_data"
   ]
  },
  {
   "cell_type": "code",
   "execution_count": 610,
   "metadata": {},
   "outputs": [],
   "source": [
    "def prepare_graph_data(train_ratings, val_ratings, test_ratings, feature_matrix):\n",
    "    train_data = create_interaction_graph(train_ratings, feature_matrix)\n",
    "    val_data = create_interaction_graph(val_ratings, feature_matrix)\n",
    "    test_data = create_interaction_graph(test_ratings, feature_matrix)\n",
    "\n",
    "    return train_data, val_data, test_data"
   ]
  },
  {
   "cell_type": "code",
   "execution_count": 611,
   "metadata": {},
   "outputs": [],
   "source": [
    "rate_train_val, rate_test = train_test_split(ratings, test_size=0.2, random_state=1)\n",
    "rate_train, rate_val = train_test_split(rate_train_val, test_size=0.2, random_state=1)\n",
    "\n",
    "train_data, val_data, test_data = prepare_graph_data(rate_train, rate_val, rate_test, feature_matrix)\n",
    "train_loader = DataLoader([train_data], batch_size=16)\n",
    "val_loader = DataLoader([val_data], batch_size=16)\n",
    "test_loader = DataLoader([test_data], batch_size=16)"
   ]
  },
  {
   "cell_type": "code",
   "execution_count": 612,
   "metadata": {},
   "outputs": [
    {
     "name": "stdout",
     "output_type": "stream",
     "text": [
      "edge_index max: 2624, num_nodes: 2625\n",
      "edge_index min: 0\n"
     ]
    }
   ],
   "source": [
    "print(f\"edge_index max: {train_data.edge_index.max()}, num_nodes: {train_data.x.size(0)}\")\n",
    "print(f\"edge_index min: {train_data.edge_index.min()}\")"
   ]
  },
  {
   "cell_type": "markdown",
   "metadata": {},
   "source": [
    "### Mô hình GCN"
   ]
  },
  {
   "cell_type": "code",
   "execution_count": 613,
   "metadata": {},
   "outputs": [],
   "source": [
    "class GCN(torch.nn.Module):\n",
    "    def __init__(self, num_features, hidden_channels):\n",
    "        super(GCN, self).__init__()\n",
    "        self.conv1 = GCNConv(num_features, hidden_channels)\n",
    "        self.conv2 = GCNConv(hidden_channels, hidden_channels // 2)\n",
    "        self.conv3 = GCNConv(hidden_channels // 2, hidden_channels)\n",
    "        self.dropout = torch.nn.Dropout(0.5)\n",
    "    \n",
    "    def forward(self, x, edge_index, edge_attr):\n",
    "        x = F.relu((self.conv1(x, edge_index, edge_weight=edge_attr)))\n",
    "        x = self.dropout(x)\n",
    "        x = F.relu((self.conv2(x, edge_index, edge_weight=edge_attr)))\n",
    "        x = self.dropout(x)\n",
    "        x = self.conv3(x, edge_index, edge_weight=edge_attr)\n",
    "        return x"
   ]
  },
  {
   "cell_type": "markdown",
   "metadata": {},
   "source": [
    "### Huấn luyện mô hình"
   ]
  },
  {
   "cell_type": "code",
   "execution_count": 614,
   "metadata": {},
   "outputs": [],
   "source": [
    "hidden_channels = 256\n",
    "model = GCN(num_features=feature_matrix.shape[1], hidden_channels=hidden_channels)\n",
    "optimizer = optim.AdamW(model.parameters(), lr=0.0005, weight_decay=1e-5)\n",
    "criterion = torch.nn.MSELoss()\n",
    "\n",
    "\n",
    "def train(model, train_loader, optimizer, criterion):\n",
    "    model.train()\n",
    "    total_loss = 0\n",
    "    for data in train_loader:\n",
    "        optimizer.zero_grad()\n",
    "        out = model(data.x, data.edge_index, data.edge_attr)\n",
    "        edge_scores = (out[data.edge_index[0]] * out[data.edge_index[1]]).sum(dim=1)\n",
    "        loss = torch.sqrt(criterion(edge_scores, data.edge_attr.to(torch.float)))\n",
    "        loss.backward()\n",
    "        optimizer.step()\n",
    "        total_loss += loss.item()\n",
    "    return total_loss / len(train_loader)\n",
    "    \n",
    "\n",
    "def validate(model, val_loader, criterion):\n",
    "    model.eval()\n",
    "    total_loss = 0\n",
    "    with torch.no_grad():\n",
    "        for data in val_loader:\n",
    "            out = model(data.x, data.edge_index, data.edge_attr)\n",
    "            source_embeddings = out[data.edge_index[0]]\n",
    "            target_embeddings = out[data.edge_index[1]]\n",
    "            edge_scores = (source_embeddings * target_embeddings).sum(dim=1)\n",
    "            target = data.edge_attr.to(torch.float)\n",
    "            loss = torch.sqrt(criterion(edge_scores, target))\n",
    "            total_loss += loss.item()\n",
    "    return total_loss / len(val_loader)\n",
    "\n",
    "def test(model, test_loader, criterion):\n",
    "    model.eval()\n",
    "    total_loss = 0\n",
    "    with torch.no_grad():\n",
    "        for data in test_loader:\n",
    "            out = model(data.x, data.edge_index, data.edge_attr)\n",
    "            source_embeddings = out[data.edge_index[0]]\n",
    "            target_embeddings = out[data.edge_index[1]]\n",
    "            edge_scores = (source_embeddings * target_embeddings).sum(dim=1)\n",
    "            target = data.edge_attr.to(torch.float)\n",
    "            loss = torch.sqrt(criterion(edge_scores, target))\n",
    "            total_loss += loss.item()\n",
    "    return total_loss / len(test_loader)"
   ]
  },
  {
   "cell_type": "code",
   "execution_count": 615,
   "metadata": {},
   "outputs": [
    {
     "name": "stdout",
     "output_type": "stream",
     "text": [
      "Epoch 10, Train Loss: 2.0704, Validation Loss: 1.8047\n",
      "Epoch 20, Train Loss: 1.7402, Validation Loss: 1.7299\n",
      "Epoch 30, Train Loss: 1.7080, Validation Loss: 1.6813\n",
      "Epoch 40, Train Loss: 1.6908, Validation Loss: 1.6528\n",
      "Epoch 50, Train Loss: 1.6518, Validation Loss: 1.6232\n",
      "Epoch 60, Train Loss: 1.6176, Validation Loss: 1.5815\n",
      "Epoch 70, Train Loss: 1.5763, Validation Loss: 1.5414\n",
      "Epoch 80, Train Loss: 1.5231, Validation Loss: 1.4978\n",
      "Epoch 90, Train Loss: 1.4730, Validation Loss: 1.4466\n",
      "Epoch 100, Train Loss: 1.4202, Validation Loss: 1.3966\n",
      "Epoch 110, Train Loss: 1.3640, Validation Loss: 1.3456\n",
      "Epoch 120, Train Loss: 1.3211, Validation Loss: 1.2960\n",
      "Epoch 130, Train Loss: 1.2651, Validation Loss: 1.2568\n",
      "Epoch 140, Train Loss: 1.2205, Validation Loss: 1.2264\n",
      "Epoch 150, Train Loss: 1.2017, Validation Loss: 1.3088\n",
      "Epoch 160, Train Loss: 1.1612, Validation Loss: 1.1659\n",
      "Epoch 170, Train Loss: 1.1198, Validation Loss: 1.1637\n",
      "Epoch 180, Train Loss: 1.1253, Validation Loss: 1.1924\n",
      "Epoch 190, Train Loss: 1.0826, Validation Loss: 1.1256\n",
      "Epoch 200, Train Loss: 1.0954, Validation Loss: 1.1378\n",
      "Epoch 210, Train Loss: 1.0698, Validation Loss: 1.1821\n",
      "Epoch 220, Train Loss: 1.0723, Validation Loss: 1.1234\n",
      "Epoch 230, Train Loss: 1.0697, Validation Loss: 1.1623\n",
      "Epoch 240, Train Loss: 1.0661, Validation Loss: 1.1362\n",
      "Epoch 250, Train Loss: 1.0626, Validation Loss: 1.2759\n",
      "Epoch 260, Train Loss: 1.0711, Validation Loss: 1.2697\n",
      "Epoch 270, Train Loss: 1.0577, Validation Loss: 1.1388\n",
      "Epoch 280, Train Loss: 1.0573, Validation Loss: 1.1613\n",
      "Epoch 290, Train Loss: 1.0589, Validation Loss: 1.1585\n",
      "Epoch 300, Train Loss: 1.0712, Validation Loss: 1.2428\n"
     ]
    }
   ],
   "source": [
    "train_losses = []\n",
    "val_losses = []\n",
    "num_epochs = 300\n",
    "for epoch in range(num_epochs):\n",
    "    train_loss = train(model, train_loader, optimizer, criterion)\n",
    "    val_loss = validate(model, val_loader, criterion)\n",
    "\n",
    "    train_losses.append(train_loss)\n",
    "    val_losses.append(val_loss)\n",
    "\n",
    "    if (epoch + 1) % 10 == 0:\n",
    "        print(f'Epoch {epoch + 1}, Train Loss: {train_loss:.4f}, Validation Loss: {val_loss:.4f}')\n"
   ]
  },
  {
   "cell_type": "code",
   "execution_count": 616,
   "metadata": {},
   "outputs": [
    {
     "name": "stdout",
     "output_type": "stream",
     "text": [
      "Test Loss (RMSE): 1.1629\n"
     ]
    }
   ],
   "source": [
    "test_loss = test(model, test_loader, criterion)\n",
    "print(f'Test Loss (RMSE): {test_loss:.4f}')"
   ]
  },
  {
   "cell_type": "code",
   "execution_count": 617,
   "metadata": {},
   "outputs": [
    {
     "data": {
      "image/png": "[encoded data removed]",
      "text/plain": [
       "<Figure size 1200x600 with 1 Axes>"
      ]
     },
     "metadata": {},
     "output_type": "display_data"
    }
   ],
   "source": [
    "plt.figure(figsize=(12, 6))\n",
    "plt.plot(range(1, num_epochs + 1), train_losses, label='Train Loss', color='blue', marker='o', markersize=5, linestyle='-')\n",
    "plt.plot(range(1, num_epochs + 1), val_losses, label='Validation Loss', color='orange', marker='o', markersize=5, linestyle='-')\n",
    "plt.title('Training and Validation Loss Over Epochs', fontsize=16)\n",
    "plt.xlabel('Epochs', fontsize=14)\n",
    "plt.ylabel('Loss', fontsize=14)\n",
    "plt.xticks(range(1, num_epochs + 1, 10))\n",
    "plt.legend(fontsize=12)\n",
    "plt.grid(True, linestyle='--', alpha=0.7)\n",
    "plt.tight_layout()\n",
    "plt.show()"
   ]
  },
  {
   "cell_type": "markdown",
   "metadata": {},
   "source": [
    "### Đánh giá và khuyến nghị"
   ]
  },
  {
   "cell_type": "code",
   "execution_count": 618,
   "metadata": {},
   "outputs": [
    {
     "name": "stdout",
     "output_type": "stream",
     "text": [
      "Train Metrics:\n",
      "Accuracy: 0.7940625\n",
      "F1 Score: 0.8784469242829476\n",
      "Precision: 0.8559335741629374\n",
      "Recall: 0.9021765898198488\n",
      "\n",
      "Validation Metrics:\n",
      "Accuracy: 0.8194375\n",
      "F1 Score: 0.8976656866565124\n",
      "Precision: 0.8460870726495726\n",
      "Recall: 0.9559411542814032\n",
      "\n",
      "Test Metrics:\n",
      "Accuracy: 0.81225\n",
      "F1 Score: 0.892385292178947\n",
      "Precision: 0.8453602649725797\n",
      "Recall: 0.9449502306385045\n"
     ]
    }
   ],
   "source": [
    "def evaluate_model(model, data_loader):\n",
    "    model.eval()\n",
    "    true_ratings = []\n",
    "    pred_ratings = []\n",
    "    \n",
    "    with torch.no_grad():\n",
    "        for data in data_loader:\n",
    "            edge_index = data.edge_index\n",
    "            edge_attr = data.edge_attr\n",
    "            out = model(data.x, edge_index, edge_attr)\n",
    "            \n",
    "            source_embeddings = out[edge_index[0]]\n",
    "            target_embeddings = out[edge_index[1]]\n",
    "            edge_scores = (source_embeddings * target_embeddings).sum(dim=1)\n",
    "            \n",
    "            true_ratings.extend(edge_attr.cpu().numpy())\n",
    "            pred_ratings.extend(edge_scores.cpu().numpy())\n",
    "    \n",
    "    true_ratings = np.array(true_ratings)\n",
    "    pred_ratings = np.array(pred_ratings)\n",
    "    \n",
    "    threshold = 3\n",
    "    true_binary = (true_ratings >= threshold).astype(int)\n",
    "    pred_binary = (pred_ratings >= threshold).astype(int)\n",
    "    \n",
    "    accuracy = accuracy_score(true_binary, pred_binary)\n",
    "    f1 = f1_score(true_binary, pred_binary)\n",
    "    precision = precision_score(true_binary, pred_binary)\n",
    "    recall = recall_score(true_binary, pred_binary)\n",
    "    \n",
    "    return {\n",
    "        'Accuracy': accuracy,\n",
    "        'F1 Score': f1,\n",
    "        'Precision': precision,\n",
    "        'Recall': recall\n",
    "    }\n",
    "\n",
    "train_metrics = evaluate_model(model, train_loader)\n",
    "print(\"Train Metrics:\")\n",
    "for metric, value in train_metrics.items():\n",
    "    print(f\"{metric}: {value}\")\n",
    "\n",
    "val_metrics = evaluate_model(model, val_loader)\n",
    "print(\"\\nValidation Metrics:\")\n",
    "for metric, value in val_metrics.items():\n",
    "    print(f\"{metric}: {value}\")\n",
    "\n",
    "val_metrics = evaluate_model(model, test_loader)\n",
    "print(\"\\nTest Metrics:\")\n",
    "for metric, value in val_metrics.items():\n",
    "    print(f\"{metric}: {value}\")"
   ]
  },
  {
   "cell_type": "code",
   "execution_count": 619,
   "metadata": {},
   "outputs": [],
   "source": [
    "def get_recommendations(user_id, top_k=10):\n",
    "    model.eval()\n",
    "    with torch.no_grad():\n",
    "        rated_movies = set(ratings[ratings['user_id'] == user_id]['movie_id'].values)\n",
    "        out = model(train_data.x, train_data.edge_index, train_data.edge_attr)\n",
    "        user_embedding = out[user_id]\n",
    "        item_embeddings = out[num_users:num_users + num_items]\n",
    "        \n",
    "        scores = torch.matmul(user_embedding.unsqueeze(0), item_embeddings.t()).squeeze()\n",
    "        scores = scores.cpu().numpy()\n",
    "        scores = np.clip(scores, 0, None)\n",
    "        max_score = np.max(scores)\n",
    "        if max_score > 0:\n",
    "            scores = 5 * (scores / max_score)\n",
    "\n",
    "        movie_scores = [(i, score) for i, score in enumerate(scores)]\n",
    "        unrated_movies = [(i, score) for i, score in movie_scores if i not in rated_movies]\n",
    "        \n",
    "        recommendations = sorted(unrated_movies, key=lambda x: x[1], reverse=True)[:top_k]\n",
    "        recommended_movies = []\n",
    "        for movie_id, score in recommendations:\n",
    "            movie_info = items[items['movie_id'] == movie_id].iloc[0]\n",
    "            recommended_movies.append({\n",
    "                'movie_id': int(movie_id),\n",
    "                'title': movie_info['movie_title'],\n",
    "                'score': float(score),\n",
    "                'genres': movie_info[genre_list].loc[movie_info[genre_list] == 1].index.tolist()\n",
    "            })\n",
    "            \n",
    "        return recommended_movies\n"
   ]
  },
  {
   "cell_type": "code",
   "execution_count": 620,
   "metadata": {},
   "outputs": [],
   "source": [
    "def display_recommendations(recommendations):\n",
    "    print(\"\\nTop Movie Recommendations:\")\n",
    "    print(\"-\" * 80)\n",
    "    print(\"Title                                             Predicted Rating    Genres\")\n",
    "    print(\"-\" * 80)\n",
    "    for rec in recommendations:\n",
    "        title = rec['title'][:47] + \"...\" if len(rec['title']) > 47 else rec['title']\n",
    "        title = title.ljust(50) \n",
    "        score = f\"{rec['score']:.2f}\".ljust(20)\n",
    "        genres = ', '.join(rec['genres'])\n",
    "        print(f\"{title}{score}{genres}\")\n"
   ]
  },
  {
   "cell_type": "code",
   "execution_count": 621,
   "metadata": {},
   "outputs": [
    {
     "name": "stdout",
     "output_type": "stream",
     "text": [
      "\n",
      "Top Movie Recommendations:\n",
      "--------------------------------------------------------------------------------\n",
      "Title                                             Predicted Rating    Genres\n",
      "--------------------------------------------------------------------------------\n",
      "Tough and Deadly (1995)                           5.00                Action, Drama, Thriller\n",
      "Bloody Child, The (1996)                          4.91                Drama, Thriller\n",
      "Heavy (1995)                                      4.54                Drama, Romance\n",
      "Lashou shentan (1992)                             3.87                Action, Crime, Drama\n",
      "Schindler's List (1993)                           3.54                Drama, War\n",
      "Silence of the Lambs, The (1991)                  3.53                Drama, Thriller\n",
      "Pulp Fiction (1994)                               3.51                Crime, Drama\n",
      "Raiders of the Lost Ark (1981)                    3.50                Action, Adventure\n",
      "Graduate, The (1967)                              3.46                Drama, Romance\n",
      "Amadeus (1984)                                    3.44                Drama, Mystery\n"
     ]
    }
   ],
   "source": [
    "user_id = 1\n",
    "recommendations = get_recommendations(user_id, top_k=10)\n",
    "display_recommendations(recommendations)"
   ]
  },
  {
   "cell_type": "code",
   "execution_count": 622,
   "metadata": {},
   "outputs": [],
   "source": [
    "def evaluate_recommendations(user_id, top_k=10):\n",
    "    recommendations = get_recommendations(user_id, top_k)\n",
    "    recommended_movie_ids = [rec['movie_id'] for rec in recommendations]\n",
    "    \n",
    "    user_ratings = ratings[ratings['user_id'] == user_id]\n",
    "    \n",
    "    # Tính toán các metrics\n",
    "    def calculate_similarity_metrics(rated_movies, recommended_movies):\n",
    "        rated_genres = items[items['movie_id'].isin(rated_movies)][genre_list].mean()\n",
    "        recommended_genres = items[items['movie_id'].isin(recommended_movies)][genre_list].mean()\n",
    "        \n",
    "        # Tính cosine similarity giữa profile thể loại\n",
    "        genre_similarity = cosine_similarity([rated_genres], [recommended_genres])[0][0]\n",
    "        \n",
    "        return genre_similarity\n",
    "\n",
    "    highly_rated = user_ratings[user_ratings['rating'] >= 4]['movie_id'].values\n",
    "    genre_similarity = calculate_similarity_metrics(highly_rated, recommended_movie_ids)\n",
    "    avg_user_rating = user_ratings['rating'].mean()\n",
    "    \n",
    "    favorite_genres = []\n",
    "    for genre in genre_list:\n",
    "        genre_movies = items[items[genre] == 1]['movie_id']\n",
    "        genre_ratings = user_ratings[user_ratings['movie_id'].isin(genre_movies)]['rating']\n",
    "        if len(genre_ratings) > 0:\n",
    "            avg_genre_rating = genre_ratings.mean()\n",
    "            if avg_genre_rating >= 4:\n",
    "                favorite_genres.append((genre, avg_genre_rating))\n",
    "    \n",
    "    favorite_genres.sort(key=lambda x: x[1], reverse=True)\n",
    "    \n",
    "    # Phân tích thể loại yêu thích\n",
    "    user_genres = []\n",
    "    for _, row in user_ratings.iterrows():\n",
    "        movie = items[items['movie_id'] == row['movie_id']].iloc[0]\n",
    "        movie_genres = movie[genre_list].loc[movie[genre_list] == 1].index.tolist()\n",
    "        user_genres.extend(movie_genres)\n",
    "    \n",
    "    favorite_genre_counts = Counter(user_genres)\n",
    "\n",
    "    recommended_genres = []\n",
    "    for movie_id in recommended_movie_ids:\n",
    "        movie_genres = items[items['movie_id'] == movie_id][genre_list].iloc[0]\n",
    "        movie_genres = [genre for genre, has_genre in zip(genre_list, movie_genres) if has_genre == 1]\n",
    "        recommended_genres.extend(movie_genres)\n",
    "    \n",
    "    genre_counts = Counter(recommended_genres)\n",
    "    \n",
    "    return {\n",
    "        'user_id': user_id,\n",
    "        'average_rating': avg_user_rating,\n",
    "        'genre_similarity': genre_similarity,\n",
    "        'favorite_genres': favorite_genres[:3],\n",
    "        'favorite_genre_distribution': dict(favorite_genre_counts.most_common()),\n",
    "        'recommended_genre_distribution': dict(genre_counts.most_common()),\n",
    "        'recommendations': recommendations\n",
    "    }\n",
    "\n",
    "def print_evaluation_results(eval_results):\n",
    "    print(f\"\\nEvaluation Results for User {eval_results['user_id']}\")\n",
    "    print(\"-\" * 50)\n",
    "    print(f\"Average Rating: {eval_results['average_rating']:.2f}\")\n",
    "    print(f\"Genre Similarity with Highly Rated Movies: {eval_results['genre_similarity']:.2f}\")\n",
    "    \n",
    "    print(\"\\nTop 3 Favorite Genres:\")\n",
    "    for genre, rating in eval_results['favorite_genres']:\n",
    "        print(f\"- {genre}: {rating:.2f}\")\n",
    "    \n",
    "    print(\"\\nFavorite Genre Distribution:\")\n",
    "    for genre, count in eval_results['favorite_genre_distribution'].items():\n",
    "        print(f\"- {genre}: {count}\")\n",
    "\n",
    "    print(\"\\nRecommended Genre Distribution:\")\n",
    "    for genre, count in eval_results['recommended_genre_distribution'].items():\n",
    "        print(f\"- {genre}: {count}\")\n",
    "    \n",
    "    print(\"\\nRecommended Movies:\")\n",
    "    for i, movie in enumerate(eval_results['recommendations'], 1):\n",
    "        print(f\"{i}. {movie['title']} (Score: {movie['score']:.4f})\")\n"
   ]
  },
  {
   "cell_type": "code",
   "execution_count": 623,
   "metadata": {},
   "outputs": [
    {
     "name": "stdout",
     "output_type": "stream",
     "text": [
      "\n",
      "Evaluation Results for User 1\n",
      "--------------------------------------------------\n",
      "Average Rating: 3.71\n",
      "Genre Similarity with Highly Rated Movies: 0.88\n",
      "\n",
      "Top 3 Favorite Genres:\n",
      "- Firm-Noir: 4.50\n",
      "- Adventure: 4.33\n",
      "- Romance: 4.12\n",
      "\n",
      "Favorite Genre Distribution:\n",
      "- Drama: 35\n",
      "- Comedy: 16\n",
      "- Romance: 16\n",
      "- Thriller: 12\n",
      "- Action: 10\n",
      "- Crime: 9\n",
      "- Sci-Fi: 4\n",
      "- Children: 4\n",
      "- Mystery: 4\n",
      "- Adventure: 3\n",
      "- War: 3\n",
      "- Horror: 2\n",
      "- Firm-Noir: 2\n",
      "- Fantasy: 1\n",
      "- Animation: 1\n",
      "- Musical: 1\n",
      "\n",
      "Recommended Genre Distribution:\n",
      "- Drama: 9\n",
      "- Action: 3\n",
      "- Thriller: 3\n",
      "- Romance: 2\n",
      "- Crime: 2\n",
      "- War: 1\n",
      "- Adventure: 1\n",
      "- Mystery: 1\n",
      "\n",
      "Recommended Movies:\n",
      "1. Tough and Deadly (1995) (Score: 5.0000)\n",
      "2. Bloody Child, The (1996) (Score: 4.9150)\n",
      "3. Heavy (1995) (Score: 4.5417)\n",
      "4. Lashou shentan (1992) (Score: 3.8737)\n",
      "5. Schindler's List (1993) (Score: 3.5375)\n",
      "6. Silence of the Lambs, The (1991) (Score: 3.5294)\n",
      "7. Pulp Fiction (1994) (Score: 3.5116)\n",
      "8. Raiders of the Lost Ark (1981) (Score: 3.5010)\n",
      "9. Graduate, The (1967) (Score: 3.4556)\n",
      "10. Amadeus (1984) (Score: 3.4443)\n"
     ]
    }
   ],
   "source": [
    "user_id = 1\n",
    "eval_results = evaluate_recommendations(user_id)\n",
    "print_evaluation_results(eval_results)"
   ]
  },
  {
   "cell_type": "code",
   "execution_count": 624,
   "metadata": {},
   "outputs": [
    {
     "name": "stdout",
     "output_type": "stream",
     "text": [
      "\n",
      "Overall Evaluation Results\n",
      "--------------------------------------------------\n",
      "Average Genre Similarity: 0.87\n",
      "Std Genre Similarity: 0.07\n"
     ]
    }
   ],
   "source": [
    "def evaluate_multiple_users(num_users=10):\n",
    "    user_sample = np.random.choice(users['user_id'].unique(), num_users, replace=False)\n",
    "    overall_genre_similarity = []\n",
    "    \n",
    "    for user_id in user_sample:\n",
    "        eval_results = evaluate_recommendations(user_id)\n",
    "        overall_genre_similarity.append(eval_results['genre_similarity'])\n",
    "    \n",
    "    print(\"\\nOverall Evaluation Results\")\n",
    "    print(\"-\" * 50)\n",
    "    print(f\"Average Genre Similarity: {np.mean(overall_genre_similarity):.2f}\")\n",
    "    print(f\"Std Genre Similarity: {np.std(overall_genre_similarity):.2f}\")\n",
    "\n",
    "evaluate_multiple_users()"
   ]
  },
  {
   "cell_type": "markdown",
   "metadata": {},
   "source": [
    "### Lưu mô hình"
   ]
  },
  {
   "cell_type": "code",
   "execution_count": 625,
   "metadata": {},
   "outputs": [],
   "source": [
    "torch.save(model.state_dict(), 'gcn_model.pth')"
   ]
  },
  {
   "cell_type": "code",
   "execution_count": 626,
   "metadata": {},
   "outputs": [
    {
     "data": {
      "text/plain": [
       "GCN(\n",
       "  (conv1): GCNConv(47, 256)\n",
       "  (conv2): GCNConv(256, 128)\n",
       "  (conv3): GCNConv(128, 256)\n",
       "  (dropout): Dropout(p=0.5, inplace=False)\n",
       ")"
      ]
     },
     "execution_count": 626,
     "metadata": {},
     "output_type": "execute_result"
    }
   ],
   "source": [
    "model = GCN(num_features=feature_matrix.shape[1], hidden_channels=hidden_channels)\n",
    "model.load_state_dict(torch.load('gcn_model.pth'))\n",
    "model.eval()\n"
   ]
  }
 ],
 "metadata": {
  "colab": {
   "provenance": []
  },
  "kernelspec": {
   "display_name": "Python 3",
   "language": "python",
   "name": "python3"
  },
  "language_info": {
   "codemirror_mode": {
    "name": "ipython",
    "version": 3
   },
   "file_extension": ".py",
   "mimetype": "text/x-python",
   "name": "python",
   "nbconvert_exporter": "python",
   "pygments_lexer": "ipython3",
   "version": "3.10.3"
  }
 },
 "nbformat": 4,
 "nbformat_minor": 0
}
