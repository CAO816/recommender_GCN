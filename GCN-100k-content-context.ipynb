{
 "cells": [
  {
   "cell_type": "markdown",
   "metadata": {},
   "source": [
    "### Import libraries"
   ]
  },
  {
   "cell_type": "code",
   "execution_count": 3,
   "metadata": {
    "execution": {
     "iopub.execute_input": "2025-05-31T06:16:10.632839Z",
     "iopub.status.busy": "2025-05-31T06:16:10.632537Z",
     "iopub.status.idle": "2025-05-31T06:16:20.977915Z",
     "shell.execute_reply": "2025-05-31T06:16:20.977255Z",
     "shell.execute_reply.started": "2025-05-31T06:16:10.632821Z"
    },
    "trusted": true
   },
   "outputs": [],
   "source": [
    "### Import thư viện\n",
    "import pandas as pd\n",
    "import numpy as np\n",
    "import torch\n",
    "from sklearn.model_selection import train_test_split\n",
    "from sklearn.preprocessing import LabelEncoder\n",
    "import torch.nn.functional as F\n",
    "from torch_geometric.nn import GCNConv\n",
    "import torch.optim as optim\n",
    "import matplotlib.pyplot as plt\n",
    "from torch_geometric.loader import DataLoader\n",
    "from torch_geometric.data import Data\n",
    "from sklearn.metrics import f1_score, precision_score, recall_score, mean_squared_error\n",
    "from sklearn.metrics import roc_auc_score"
   ]
  },
  {
   "cell_type": "code",
   "execution_count": 4,
   "metadata": {
    "execution": {
     "iopub.execute_input": "2025-05-31T06:16:20.979106Z",
     "iopub.status.busy": "2025-05-31T06:16:20.978659Z",
     "iopub.status.idle": "2025-05-31T06:16:20.983756Z",
     "shell.execute_reply": "2025-05-31T06:16:20.983085Z",
     "shell.execute_reply.started": "2025-05-31T06:16:20.979077Z"
    },
    "trusted": true
   },
   "outputs": [
    {
     "name": "stdout",
     "output_type": "stream",
     "text": [
      "Using device: cuda:0\n"
     ]
    }
   ],
   "source": [
    "import os\n",
    "os.environ['CUDA_VISIBLE_DEVICES'] = '0'\n",
    "device = torch.device('cuda:0' if torch.cuda.is_available() else 'cpu')\n",
    "print(f'Using device: {device}')"
   ]
  },
  {
   "cell_type": "markdown",
   "metadata": {},
   "source": [
    "### Prepareing data"
   ]
  },
  {
   "cell_type": "code",
   "execution_count": null,
   "metadata": {
    "execution": {
     "iopub.execute_input": "2025-05-31T06:16:20.984504Z",
     "iopub.status.busy": "2025-05-31T06:16:20.984263Z",
     "iopub.status.idle": "2025-05-31T06:16:21.000170Z",
     "shell.execute_reply": "2025-05-31T06:16:20.999363Z",
     "shell.execute_reply.started": "2025-05-31T06:16:20.984484Z"
    },
    "trusted": true
   },
   "outputs": [],
   "source": [
    "def load_movielens_100k(folder_path=\"./ml-100k\"):\n",
    "    users = pd.read_csv(\n",
    "        f\"{folder_path}/u.user\",\n",
    "        sep='|', \n",
    "        header=None, \n",
    "        names=['user_id', 'age', 'gender', 'occupation', 'zip_code'],\n",
    "        engine='python',\n",
    "        encoding='latin1'\n",
    "    )\n",
    "\n",
    "    movies_cols = ['movie_id', 'movie_title', 'release_date', 'video_release_date', 'IMBd_URL', \n",
    "                   'unknown', 'Action', 'Adventure', 'Animation', 'Children', 'Comedy', 'Crime', \n",
    "                   'Documentary', 'Drama', 'Fantasy', 'Film-Noir', 'Horror', 'Musical', 'Mystery', \n",
    "                   'Romance', 'Sci-Fi', 'Thriller', 'War', 'Western']\n",
    "    \n",
    "    movies = pd.read_csv(\n",
    "        f\"{folder_path}/u.item\",\n",
    "        sep='|', \n",
    "        header=None, \n",
    "        names=movies_cols,\n",
    "        usecols=range(len(movies_cols)),  # giới hạn số cột\n",
    "        engine='python',\n",
    "        encoding='latin1'\n",
    "    )\n",
    "\n",
    "    ratings = pd.read_csv(\n",
    "        f\"{folder_path}/u.data\",\n",
    "        sep='\\t', \n",
    "        header=None, \n",
    "        names=['user_id', 'movie_id', 'rating', 'timestamp'],\n",
    "        engine='python',\n",
    "        encoding='latin1'\n",
    "    )\n",
    "    \n",
    "    return users, movies, ratings"
   ]
  },
  {
   "cell_type": "code",
   "execution_count": null,
   "metadata": {
    "execution": {
     "iopub.execute_input": "2025-05-31T06:16:21.001150Z",
     "iopub.status.busy": "2025-05-31T06:16:21.000919Z",
     "iopub.status.idle": "2025-05-31T06:16:21.581182Z",
     "shell.execute_reply": "2025-05-31T06:16:21.580664Z",
     "shell.execute_reply.started": "2025-05-31T06:16:21.001131Z"
    },
    "trusted": true
   },
   "outputs": [],
   "source": [
    "users, movies, ratings = load_movielens_100k(\"./ml-100k\")"
   ]
  },
  {
   "cell_type": "markdown",
   "metadata": {},
   "source": [
    "### Preprocessing data, building features"
   ]
  },
  {
   "cell_type": "code",
   "execution_count": 9,
   "metadata": {
    "execution": {
     "iopub.execute_input": "2025-05-31T06:16:21.633601Z",
     "iopub.status.busy": "2025-05-31T06:16:21.633214Z",
     "iopub.status.idle": "2025-05-31T06:16:21.645361Z",
     "shell.execute_reply": "2025-05-31T06:16:21.644830Z",
     "shell.execute_reply.started": "2025-05-31T06:16:21.633585Z"
    },
    "trusted": true
   },
   "outputs": [],
   "source": [
    "def remap_and_save(users, movies, ratings, folder_path):\n",
    "    # Reassign user_id, movie_id begin from 0\n",
    "    users['STT'] = range(0, len(users))\n",
    "    movies['STT'] = range(0, len(movies))\n",
    "\n",
    "    # Create a mapping from user_id to STT\n",
    "    user_map = dict(zip(users['user_id'], users['STT']))\n",
    "    movie_map = dict(zip(movies['movie_id'], movies['STT']))\n",
    "\n",
    "    # Update ratings with new STT\n",
    "    ratings['user_STT'] = ratings['user_id'].map(user_map)\n",
    "    ratings['movie_STT'] = ratings['movie_id'].map(movie_map)\n",
    "    ratings = ratings.drop(columns=['user_id', 'movie_id'])\n",
    "    ratings = ratings.rename(columns={'user_STT': 'user_id', 'movie_STT': 'movie_id'})\n",
    "\n",
    "    # Remove the old id column from users and movies DataFrame\n",
    "    users = users.drop(columns=['user_id'])\n",
    "    movies = movies.drop(columns=['movie_id'])\n",
    "    users = users.rename(columns={'STT': 'user_id'})\n",
    "    movies = movies.rename(columns={'STT': 'movie_id'})\n",
    "\n",
    "    # Save the processed DataFrames to CSV files\n",
    "    users.to_csv(folder_path + '/processed_users.csv', index=False)\n",
    "    movies.to_csv(folder_path + '/processed_movies.csv', index=False)\n",
    "    ratings.to_csv(folder_path + '/processed_ratings.csv', index=False)"
   ]
  },
  {
   "cell_type": "code",
   "execution_count": null,
   "metadata": {
    "execution": {
     "iopub.execute_input": "2025-05-31T06:16:21.646218Z",
     "iopub.status.busy": "2025-05-31T06:16:21.646016Z",
     "iopub.status.idle": "2025-05-31T06:16:21.865112Z",
     "shell.execute_reply": "2025-05-31T06:16:21.864358Z",
     "shell.execute_reply.started": "2025-05-31T06:16:21.646195Z"
    },
    "trusted": true
   },
   "outputs": [],
   "source": [
    "# Use processed data\n",
    "folder_path = \"./ml-100k\"\n",
    "remap_and_save(users, movies, ratings, folder_path)\n",
    "users = pd.read_csv(folder_path + '/processed_users.csv')\n",
    "movies = pd.read_csv(folder_path + '/processed_movies.csv')\n",
    "ratings = pd.read_csv(folder_path + '/processed_ratings.csv')"
   ]
  },
  {
   "cell_type": "code",
   "execution_count": 11,
   "metadata": {
    "execution": {
     "iopub.execute_input": "2025-05-31T06:16:21.866160Z",
     "iopub.status.busy": "2025-05-31T06:16:21.865917Z",
     "iopub.status.idle": "2025-05-31T06:16:21.909854Z",
     "shell.execute_reply": "2025-05-31T06:16:21.909323Z",
     "shell.execute_reply.started": "2025-05-31T06:16:21.866137Z"
    },
    "trusted": true
   },
   "outputs": [],
   "source": [
    "def add_temporal_features(ratings):\n",
    "    ratings['timestamp'] = pd.to_datetime(ratings['timestamp'], unit='s')\n",
    "    ratings['day_of_week'] = ratings['timestamp'].dt.dayofweek\n",
    "    ratings['hour'] = ratings['timestamp'].dt.hour\n",
    "    ratings['time_of_day'] = pd.cut(ratings['hour'],\n",
    "                                    bins=[0, 6, 12, 18, 24],\n",
    "                                    labels=[0, 1, 2, 3],\n",
    "                                    include_lowest=True)\n",
    "    ratings['month'] = ratings['timestamp'].dt.month\n",
    "    ratings['is_weekend'] = ratings['day_of_week'].isin([5, 6]).astype(int)\n",
    "    ratings['season'] = pd.cut(ratings['month'],\n",
    "                                    bins=[0, 3, 6, 9, 12],\n",
    "                                    labels=[0,1,2,3])\n",
    "    return ratings\n",
    "ratings = add_temporal_features(ratings)"
   ]
  },
  {
   "cell_type": "code",
   "execution_count": 12,
   "metadata": {
    "execution": {
     "iopub.execute_input": "2025-05-31T06:16:21.910837Z",
     "iopub.status.busy": "2025-05-31T06:16:21.910578Z",
     "iopub.status.idle": "2025-05-31T06:16:21.923128Z",
     "shell.execute_reply": "2025-05-31T06:16:21.922422Z",
     "shell.execute_reply.started": "2025-05-31T06:16:21.910810Z"
    },
    "trusted": true
   },
   "outputs": [
    {
     "data": {
      "text/html": [
       "<div>\n",
       "<style scoped>\n",
       "    .dataframe tbody tr th:only-of-type {\n",
       "        vertical-align: middle;\n",
       "    }\n",
       "\n",
       "    .dataframe tbody tr th {\n",
       "        vertical-align: top;\n",
       "    }\n",
       "\n",
       "    .dataframe thead th {\n",
       "        text-align: right;\n",
       "    }\n",
       "</style>\n",
       "<table border=\"1\" class=\"dataframe\">\n",
       "  <thead>\n",
       "    <tr style=\"text-align: right;\">\n",
       "      <th></th>\n",
       "      <th>rating</th>\n",
       "      <th>timestamp</th>\n",
       "      <th>user_id</th>\n",
       "      <th>movie_id</th>\n",
       "      <th>day_of_week</th>\n",
       "      <th>hour</th>\n",
       "      <th>time_of_day</th>\n",
       "      <th>month</th>\n",
       "      <th>is_weekend</th>\n",
       "      <th>season</th>\n",
       "    </tr>\n",
       "  </thead>\n",
       "  <tbody>\n",
       "    <tr>\n",
       "      <th>0</th>\n",
       "      <td>3</td>\n",
       "      <td>1997-12-04 15:55:49</td>\n",
       "      <td>195</td>\n",
       "      <td>241</td>\n",
       "      <td>3</td>\n",
       "      <td>15</td>\n",
       "      <td>2</td>\n",
       "      <td>12</td>\n",
       "      <td>0</td>\n",
       "      <td>3</td>\n",
       "    </tr>\n",
       "    <tr>\n",
       "      <th>1</th>\n",
       "      <td>3</td>\n",
       "      <td>1998-04-04 19:22:22</td>\n",
       "      <td>185</td>\n",
       "      <td>301</td>\n",
       "      <td>5</td>\n",
       "      <td>19</td>\n",
       "      <td>3</td>\n",
       "      <td>4</td>\n",
       "      <td>1</td>\n",
       "      <td>1</td>\n",
       "    </tr>\n",
       "    <tr>\n",
       "      <th>2</th>\n",
       "      <td>1</td>\n",
       "      <td>1997-11-07 07:18:36</td>\n",
       "      <td>21</td>\n",
       "      <td>376</td>\n",
       "      <td>4</td>\n",
       "      <td>7</td>\n",
       "      <td>1</td>\n",
       "      <td>11</td>\n",
       "      <td>0</td>\n",
       "      <td>3</td>\n",
       "    </tr>\n",
       "    <tr>\n",
       "      <th>3</th>\n",
       "      <td>2</td>\n",
       "      <td>1997-11-27 05:02:03</td>\n",
       "      <td>243</td>\n",
       "      <td>50</td>\n",
       "      <td>3</td>\n",
       "      <td>5</td>\n",
       "      <td>0</td>\n",
       "      <td>11</td>\n",
       "      <td>0</td>\n",
       "      <td>3</td>\n",
       "    </tr>\n",
       "    <tr>\n",
       "      <th>4</th>\n",
       "      <td>1</td>\n",
       "      <td>1998-02-02 05:33:16</td>\n",
       "      <td>165</td>\n",
       "      <td>345</td>\n",
       "      <td>0</td>\n",
       "      <td>5</td>\n",
       "      <td>0</td>\n",
       "      <td>2</td>\n",
       "      <td>0</td>\n",
       "      <td>0</td>\n",
       "    </tr>\n",
       "    <tr>\n",
       "      <th>...</th>\n",
       "      <td>...</td>\n",
       "      <td>...</td>\n",
       "      <td>...</td>\n",
       "      <td>...</td>\n",
       "      <td>...</td>\n",
       "      <td>...</td>\n",
       "      <td>...</td>\n",
       "      <td>...</td>\n",
       "      <td>...</td>\n",
       "      <td>...</td>\n",
       "    </tr>\n",
       "    <tr>\n",
       "      <th>99995</th>\n",
       "      <td>3</td>\n",
       "      <td>1997-11-22 05:10:44</td>\n",
       "      <td>879</td>\n",
       "      <td>475</td>\n",
       "      <td>5</td>\n",
       "      <td>5</td>\n",
       "      <td>0</td>\n",
       "      <td>11</td>\n",
       "      <td>1</td>\n",
       "      <td>3</td>\n",
       "    </tr>\n",
       "    <tr>\n",
       "      <th>99996</th>\n",
       "      <td>5</td>\n",
       "      <td>1997-11-17 19:39:03</td>\n",
       "      <td>715</td>\n",
       "      <td>203</td>\n",
       "      <td>0</td>\n",
       "      <td>19</td>\n",
       "      <td>3</td>\n",
       "      <td>11</td>\n",
       "      <td>0</td>\n",
       "      <td>3</td>\n",
       "    </tr>\n",
       "    <tr>\n",
       "      <th>99997</th>\n",
       "      <td>1</td>\n",
       "      <td>1997-09-20 22:49:55</td>\n",
       "      <td>275</td>\n",
       "      <td>1089</td>\n",
       "      <td>5</td>\n",
       "      <td>22</td>\n",
       "      <td>3</td>\n",
       "      <td>9</td>\n",
       "      <td>1</td>\n",
       "      <td>2</td>\n",
       "    </tr>\n",
       "    <tr>\n",
       "      <th>99998</th>\n",
       "      <td>2</td>\n",
       "      <td>1997-12-17 22:52:36</td>\n",
       "      <td>12</td>\n",
       "      <td>224</td>\n",
       "      <td>2</td>\n",
       "      <td>22</td>\n",
       "      <td>3</td>\n",
       "      <td>12</td>\n",
       "      <td>0</td>\n",
       "      <td>3</td>\n",
       "    </tr>\n",
       "    <tr>\n",
       "      <th>99999</th>\n",
       "      <td>3</td>\n",
       "      <td>1997-11-19 17:13:03</td>\n",
       "      <td>11</td>\n",
       "      <td>202</td>\n",
       "      <td>2</td>\n",
       "      <td>17</td>\n",
       "      <td>2</td>\n",
       "      <td>11</td>\n",
       "      <td>0</td>\n",
       "      <td>3</td>\n",
       "    </tr>\n",
       "  </tbody>\n",
       "</table>\n",
       "<p>100000 rows × 10 columns</p>\n",
       "</div>"
      ],
      "text/plain": [
       "       rating           timestamp  user_id  movie_id  day_of_week  hour  \\\n",
       "0           3 1997-12-04 15:55:49      195       241            3    15   \n",
       "1           3 1998-04-04 19:22:22      185       301            5    19   \n",
       "2           1 1997-11-07 07:18:36       21       376            4     7   \n",
       "3           2 1997-11-27 05:02:03      243        50            3     5   \n",
       "4           1 1998-02-02 05:33:16      165       345            0     5   \n",
       "...       ...                 ...      ...       ...          ...   ...   \n",
       "99995       3 1997-11-22 05:10:44      879       475            5     5   \n",
       "99996       5 1997-11-17 19:39:03      715       203            0    19   \n",
       "99997       1 1997-09-20 22:49:55      275      1089            5    22   \n",
       "99998       2 1997-12-17 22:52:36       12       224            2    22   \n",
       "99999       3 1997-11-19 17:13:03       11       202            2    17   \n",
       "\n",
       "      time_of_day  month  is_weekend season  \n",
       "0               2     12           0      3  \n",
       "1               3      4           1      1  \n",
       "2               1     11           0      3  \n",
       "3               0     11           0      3  \n",
       "4               0      2           0      0  \n",
       "...           ...    ...         ...    ...  \n",
       "99995           0     11           1      3  \n",
       "99996           3     11           0      3  \n",
       "99997           3      9           1      2  \n",
       "99998           3     12           0      3  \n",
       "99999           2     11           0      3  \n",
       "\n",
       "[100000 rows x 10 columns]"
      ]
     },
     "execution_count": 12,
     "metadata": {},
     "output_type": "execute_result"
    }
   ],
   "source": [
    "ratings"
   ]
  },
  {
   "cell_type": "code",
   "execution_count": 13,
   "metadata": {
    "execution": {
     "iopub.execute_input": "2025-05-31T06:16:21.924128Z",
     "iopub.status.busy": "2025-05-31T06:16:21.923889Z",
     "iopub.status.idle": "2025-05-31T06:16:21.938043Z",
     "shell.execute_reply": "2025-05-31T06:16:21.937550Z",
     "shell.execute_reply.started": "2025-05-31T06:16:21.924106Z"
    },
    "trusted": true
   },
   "outputs": [],
   "source": [
    "def preprocess_data(users, movies, ratings):\n",
    "    # Convert categorical user features to one-hot encoding\n",
    "    label_encoder = LabelEncoder()\n",
    "    users['gender'] = label_encoder.fit_transform(users['gender'])\n",
    "    users['occupation'] = label_encoder.fit_transform(users['occupation'])\n",
    "    bins = [0, 18, 30, 45, 60, 200]\n",
    "    labels = list(range(len(bins)-1))\n",
    "    users['age'] = pd.cut(users['age'], bins=bins, labels=labels, right=False)\n",
    "\n",
    "    users['age'] = users['age'].astype(int)\n",
    "    users['occupation'] = users['occupation'].astype(int)\n",
    "    users['gender'] = users['gender'].astype(int)\n",
    "    users_processed = pd.get_dummies(users[['gender', 'age', 'occupation']])\n",
    "    users_features = torch.FloatTensor(users_processed.values).to(device)\n",
    "\n",
    "    movie_features = movies.to_numpy()\n",
    "    movie_features = movie_features[:, -19:-1]\n",
    "    movie_features = movie_features.astype(int)\n",
    "    movie_features = torch.FloatTensor(movie_features).to(device)\n",
    "    \n",
    "    # Chia dữ liệu\n",
    "    train_ratings, test_ratings = train_test_split(\n",
    "        ratings, test_size=0.2, random_state=42\n",
    "    )\n",
    "    \n",
    "    return train_ratings, test_ratings, users_features, movie_features"
   ]
  },
  {
   "cell_type": "code",
   "execution_count": 14,
   "metadata": {
    "execution": {
     "iopub.execute_input": "2025-05-31T06:16:21.938957Z",
     "iopub.status.busy": "2025-05-31T06:16:21.938770Z",
     "iopub.status.idle": "2025-05-31T06:16:22.169241Z",
     "shell.execute_reply": "2025-05-31T06:16:22.168481Z",
     "shell.execute_reply.started": "2025-05-31T06:16:21.938937Z"
    },
    "trusted": true
   },
   "outputs": [],
   "source": [
    "train_ratings, test_ratings, user_features, movie_features=preprocess_data(users, movies, ratings)"
   ]
  },
  {
   "cell_type": "code",
   "execution_count": 15,
   "metadata": {
    "execution": {
     "iopub.execute_input": "2025-05-31T06:16:22.170230Z",
     "iopub.status.busy": "2025-05-31T06:16:22.170042Z",
     "iopub.status.idle": "2025-05-31T06:16:22.175990Z",
     "shell.execute_reply": "2025-05-31T06:16:22.175187Z",
     "shell.execute_reply.started": "2025-05-31T06:16:22.170216Z"
    },
    "trusted": true
   },
   "outputs": [
    {
     "data": {
      "text/plain": [
       "((80000, 10), (20000, 10), torch.Size([943, 3]), torch.Size([1682, 18]))"
      ]
     },
     "execution_count": 15,
     "metadata": {},
     "output_type": "execute_result"
    }
   ],
   "source": [
    "train_ratings.shape, test_ratings.shape, user_features.shape, movie_features.shape"
   ]
  },
  {
   "cell_type": "code",
   "execution_count": 16,
   "metadata": {
    "execution": {
     "iopub.execute_input": "2025-05-31T06:16:22.176953Z",
     "iopub.status.busy": "2025-05-31T06:16:22.176756Z",
     "iopub.status.idle": "2025-05-31T06:16:22.190518Z",
     "shell.execute_reply": "2025-05-31T06:16:22.189946Z",
     "shell.execute_reply.started": "2025-05-31T06:16:22.176937Z"
    },
    "trusted": true
   },
   "outputs": [
    {
     "name": "stdout",
     "output_type": "stream",
     "text": [
      "943\n"
     ]
    }
   ],
   "source": [
    "num_users = user_features.shape[0]\n",
    "num_items = movie_features.shape[0]\n",
    "num_contexts = ratings[\"time_of_day\"].nunique()\n",
    "print(num_users)"
   ]
  },
  {
   "cell_type": "code",
   "execution_count": 17,
   "metadata": {
    "execution": {
     "iopub.execute_input": "2025-05-31T06:16:22.191486Z",
     "iopub.status.busy": "2025-05-31T06:16:22.191238Z",
     "iopub.status.idle": "2025-05-31T06:16:22.271073Z",
     "shell.execute_reply": "2025-05-31T06:16:22.270484Z",
     "shell.execute_reply.started": "2025-05-31T06:16:22.191466Z"
    },
    "trusted": true
   },
   "outputs": [],
   "source": [
    "feature_matrix = torch.zeros((num_users + num_items + num_contexts, user_features.shape[1] + movie_features.shape[1]))\n",
    "feature_matrix[:num_users, :user_features.shape[1]] = user_features\n",
    "feature_matrix[num_users : num_users + num_items, user_features.shape[1]:] = movie_features"
   ]
  },
  {
   "cell_type": "code",
   "execution_count": 18,
   "metadata": {
    "execution": {
     "iopub.execute_input": "2025-05-31T06:16:22.271894Z",
     "iopub.status.busy": "2025-05-31T06:16:22.271707Z",
     "iopub.status.idle": "2025-05-31T06:16:22.276453Z",
     "shell.execute_reply": "2025-05-31T06:16:22.275931Z",
     "shell.execute_reply.started": "2025-05-31T06:16:22.271881Z"
    },
    "trusted": true
   },
   "outputs": [],
   "source": [
    "num_features = feature_matrix.shape[1]\n",
    "movie_features = movie_features.to(device)\n",
    "user_features = user_features.to(device)\n",
    "feature_matrix = feature_matrix.to(device)"
   ]
  },
  {
   "cell_type": "markdown",
   "metadata": {},
   "source": [
    "### Building User-Item Graph"
   ]
  },
  {
   "cell_type": "markdown",
   "metadata": {},
   "source": [
    "- Tạo đồ thị tương tác giữa users và items\n",
    "- Xây dựng ma trận kề và thuộc tính cạnh\n",
    "- Chia dữ liệu thành train/test"
   ]
  },
  {
   "cell_type": "code",
   "execution_count": 19,
   "metadata": {
    "execution": {
     "iopub.execute_input": "2025-05-31T06:16:22.277229Z",
     "iopub.status.busy": "2025-05-31T06:16:22.277046Z",
     "iopub.status.idle": "2025-05-31T06:16:22.288922Z",
     "shell.execute_reply": "2025-05-31T06:16:22.288281Z",
     "shell.execute_reply.started": "2025-05-31T06:16:22.277211Z"
    },
    "trusted": true
   },
   "outputs": [],
   "source": [
    "def create_movie_sim_matrix(movie_features, threshold=0.95, num_samples=2500):\n",
    "    \"\"\"\n",
    "    Tính Jaccard similarity giữa các phim bằng PyTorch trên GPU.\n",
    "    Args:\n",
    "        movie_features (Tensor): (num_movies, num_features), kiểu torch.bool hoặc torch.float\n",
    "        threshold (float): ngưỡng tương đồng\n",
    "        num_samples (int): số lượng cặp phim lấy ngẫu nhiên\n",
    "    Returns:\n",
    "        movie_pairs (Tensor): (num_samples, 2)\n",
    "        sim_values (Tensor): (num_samples,)\n",
    "    \"\"\"\n",
    "    movie_features = movie_features.to(device)\n",
    "\n",
    "    # Tính tích chéo giữa các vector đặc trưng (số bit trùng nhau)\n",
    "    intersection = torch.matmul(movie_features, movie_features.T)\n",
    "\n",
    "    # Tổng số bit \"1\" mỗi phim (dùng để tính union)\n",
    "    row_sums = movie_features.sum(dim=1).unsqueeze(1)\n",
    "    unions = row_sums + row_sums.T - intersection\n",
    "\n",
    "    # Jaccard similarity\n",
    "    jaccard_sim = intersection / unions.clamp(min=1e-8)\n",
    "\n",
    "    # Lấy upper triangle\n",
    "    num_movies = movie_features.shape[0]\n",
    "    row_idx, col_idx = torch.triu_indices(num_movies, num_movies, offset=1, device=device)\n",
    "\n",
    "    sim_values = jaccard_sim[row_idx, col_idx]\n",
    "\n",
    "    # Lọc theo threshold\n",
    "    mask = sim_values > threshold\n",
    "    filtered_row = row_idx[mask]\n",
    "    filtered_col = col_idx[mask]\n",
    "    filtered_sim = sim_values[mask]\n",
    "\n",
    "    # Sampling nếu cần\n",
    "    total = filtered_sim.shape[0]\n",
    "    if total > num_samples:\n",
    "        indices = torch.randperm(total, device=device)[:num_samples]\n",
    "        filtered_row = filtered_row[indices]\n",
    "        filtered_col = filtered_col[indices]\n",
    "        filtered_sim = filtered_sim[indices]\n",
    "\n",
    "    # Trả về cặp chỉ số dưới dạng torch.stack hoặc zip\n",
    "    movie_pairs = torch.stack([filtered_row, filtered_col], dim=1)  # (num_edges, 2)\n",
    "\n",
    "    return movie_pairs, filtered_sim"
   ]
  },
  {
   "cell_type": "code",
   "execution_count": 20,
   "metadata": {
    "execution": {
     "iopub.execute_input": "2025-05-31T06:16:22.290130Z",
     "iopub.status.busy": "2025-05-31T06:16:22.289630Z",
     "iopub.status.idle": "2025-05-31T06:16:22.307295Z",
     "shell.execute_reply": "2025-05-31T06:16:22.306720Z",
     "shell.execute_reply.started": "2025-05-31T06:16:22.290107Z"
    },
    "trusted": true
   },
   "outputs": [],
   "source": [
    "def create_new_user_item_edge(ratings, movie_features=movie_features):\n",
    "    \"\"\"\n",
    "    Tạo các cạnh user-movie mới dựa trên độ tương đồng giữa các phim.\n",
    "\n",
    "    Args:\n",
    "    - ratings (DataFrame): chứa các cột 'user_id', 'movie_id', 'rating'.\n",
    "    - movie_features (Tensor, optional): tensor nhị phân (num_movies, num_genres) thể hiện đặc trưng của phim.\n",
    "\n",
    "    Return:\n",
    "    - new_edges_tensor (Tensor): tensor (2, N) trên GPU, mỗi cột là một cạnh (user_id, movie_id).\n",
    "    - temp_ratings_tensor (Tensor): tensor (N,) trên GPU, là rating tạm thời được nội suy từ phim tương đồng.\n",
    "    \"\"\"\n",
    "    movie_sim_edges, sim_values = create_movie_sim_matrix(movie_features)\n",
    "    user_ids = users[\"user_id\"]\n",
    "    \n",
    "    new_edges = []\n",
    "    temp_ratings = []\n",
    "    max_edges = np.abs(len(ratings[ratings[\"rating\"] < 4]) - len(ratings[ratings[\"rating\"] >= 4]))\n",
    "    \n",
    "    for u in user_ids:\n",
    "        user_rated_movies = ratings[ratings['user_id'] == u]['movie_id'].tolist()\n",
    "        if len(user_rated_movies) == 0:\n",
    "            continue\n",
    "        for (movie1, movie2), sim_val in zip(movie_sim_edges, sim_values):\n",
    "            movie1 = int(movie1.cpu())\n",
    "            movie2 = int(movie2.cpu())\n",
    "            if movie1 in user_rated_movies and movie2 not in user_rated_movies:\n",
    "                user_rating_for_movie1 = ratings.loc[\n",
    "                    (ratings['user_id'] == u) & (ratings['movie_id'] == movie1),\n",
    "                    'rating'].values[0]\n",
    "                if user_rating_for_movie1 >= 4:\n",
    "                    continue\n",
    "                new_rating = sim_val * user_rating_for_movie1\n",
    "                new_edges.append([u, movie2])\n",
    "                temp_ratings.append(new_rating)\n",
    "    \n",
    "    total_new_edges = len(new_edges)\n",
    "    if total_new_edges > max_edges // 3:\n",
    "        selected_indices = np.random.choice(total_new_edges, size=max_edges // 3, replace=False)\n",
    "        new_edges = [new_edges[i] for i in selected_indices]\n",
    "        temp_ratings = [temp_ratings[i] for i in selected_indices]\n",
    "    \n",
    "    new_edges_tensor = torch.tensor(new_edges, dtype=torch.long, device=device).t()\n",
    "    temp_ratings_tensor = torch.tensor(temp_ratings, dtype=torch.float, device=device)\n",
    "    return new_edges_tensor, temp_ratings_tensor"
   ]
  },
  {
   "cell_type": "code",
   "execution_count": 21,
   "metadata": {
    "execution": {
     "iopub.execute_input": "2025-05-31T06:16:22.308824Z",
     "iopub.status.busy": "2025-05-31T06:16:22.308093Z",
     "iopub.status.idle": "2025-05-31T06:16:22.326694Z",
     "shell.execute_reply": "2025-05-31T06:16:22.325827Z",
     "shell.execute_reply.started": "2025-05-31T06:16:22.308800Z"
    },
    "trusted": true
   },
   "outputs": [],
   "source": [
    "def create_interaction_graph(ratings, features, movie_features = movie_features):\n",
    "    \"\"\"\n",
    "    Tạo đồ thị tương tác từ dữ liệu người dùng, phim và context.\n",
    "\n",
    "    Args:\n",
    "    - ratings (DataFrame): chứa các cột 'user_id', 'movie_id', 'rating', 'time_of_day'.\n",
    "    - features (Tensor): đặc trưng ban đầu của các node (user, movie, context), kích thước (num_nodes, num_features).\n",
    "    - movie_features (Tensor, optional): đặc trưng nhị phân của phim (dùng cho các tác vụ khác, mặc định dùng biến toàn cục).\n",
    "\n",
    "    Return:\n",
    "    - Data: đối tượng torch_geometric.data.Data chứa:\n",
    "        - x: đặc trưng của các node (Tensor).\n",
    "        - edge_index: chỉ số cạnh theo định dạng COO (Tensor 2×E).\n",
    "        - edge_attr: trọng số các cạnh (Tensor E).\n",
    "    \"\"\"\n",
    "    features = features.to(device)\n",
    "    \n",
    "    user_ids = ratings['user_id'].values\n",
    "    item_ids = ratings['movie_id'].values + num_users\n",
    "    ratings_values = ratings['rating'].values\n",
    "\n",
    "    edges = np.stack([\n",
    "        np.concatenate([user_ids, item_ids]),\n",
    "        np.concatenate([item_ids, user_ids])\n",
    "    ])\n",
    "    edge_index = torch.tensor(edges, dtype=torch.long).to(device)\n",
    "\n",
    "    edge_attr = torch.tensor(\n",
    "        np.concatenate([ratings_values, ratings_values]),\n",
    "        dtype=torch.float\n",
    "    ).to(device)\n",
    "\n",
    "    # Tính node id cho context\n",
    "    CONTEXT_OFFSET = num_users + num_items\n",
    "\n",
    "    '''Tạo các cạnh nối tới context'''\n",
    "    # Tạo các cạnh user ↔ context\n",
    "    user_time_edges = ratings.groupby(['user_id', 'time_of_day'], observed=True)['rating'].mean().reset_index()\n",
    "    user_time_edges.rename(columns={'rating': 'weight'}, inplace=True)\n",
    "    user_time_edges = user_time_edges.dropna()\n",
    "    print(\"User and context:\", user_time_edges.shape)\n",
    "\n",
    "    # Convert sang torch tensor\n",
    "    user_ids = torch.tensor(user_time_edges['user_id'].values, dtype=torch.long)\n",
    "    context_ids = torch.tensor(user_time_edges['time_of_day'].cat.codes.values + CONTEXT_OFFSET, dtype=torch.long)\n",
    "    edge_weight_context = torch.tensor(user_time_edges['weight'].values, dtype=torch.float)\n",
    "    edge_context = torch.stack([context_ids, user_ids], dim=0)\n",
    "\n",
    "    # Nối vào edge_index và edge_attr\n",
    "    edge_index = torch.cat([edge_index, edge_context.to(edge_index.device)], dim=1)\n",
    "    edge_attr = torch.cat([edge_attr, edge_weight_context.to(edge_attr.device)], dim=0)\n",
    "\n",
    "    # Tạo các cạnh movie ↔ context\n",
    "    item_time_edges = ratings.groupby(['movie_id', 'time_of_day'], observed=True)['rating'].mean().reset_index()\n",
    "    item_time_edges.rename(columns={'rating': 'weight'}, inplace=True)\n",
    "    item_time_edges = item_time_edges.dropna()\n",
    "    print(\"Item and context:\", item_time_edges.shape)\n",
    "\n",
    "    # Convert sang torch tensor\n",
    "    item_ids = torch.tensor(item_time_edges['movie_id'].values, dtype=torch.long)\n",
    "    context_ids = torch.tensor(item_time_edges['time_of_day'].cat.codes.values + CONTEXT_OFFSET, dtype=torch.long)\n",
    "    edge_weight_item_context = torch.tensor(item_time_edges['weight'].values, dtype=torch.float)\n",
    "    edge_item_context = torch.stack([context_ids, item_ids], dim=0)\n",
    "\n",
    "    # Nối vào edge_index và edge_attr\n",
    "    edge_index = torch.cat([edge_index, edge_item_context.to(edge_index.device)], dim=1)\n",
    "    edge_attr = torch.cat([edge_attr, edge_weight_item_context.to(edge_attr.device)], dim=0)\n",
    "\n",
    "    return Data(x=features, edge_index=edge_index, edge_attr=edge_attr)\n"
   ]
  },
  {
   "cell_type": "code",
   "execution_count": 22,
   "metadata": {
    "execution": {
     "iopub.execute_input": "2025-05-31T06:16:22.327511Z",
     "iopub.status.busy": "2025-05-31T06:16:22.327306Z",
     "iopub.status.idle": "2025-05-31T06:16:22.344189Z",
     "shell.execute_reply": "2025-05-31T06:16:22.343589Z",
     "shell.execute_reply.started": "2025-05-31T06:16:22.327497Z"
    },
    "trusted": true
   },
   "outputs": [],
   "source": [
    "def create_interaction_graph_extra(ratings, features, movie_features=movie_features, user_features=user_features):\n",
    "    \"\"\"\n",
    "    Tạo đồ thị tương tác từ dữ liệu người dùng, phim và context.\n",
    "\n",
    "    Args:\n",
    "    - ratings (DataFrame): chứa các cột 'user_id', 'movie_id', 'rating', 'time_of_day'.\n",
    "    - features (Tensor): đặc trưng ban đầu của các node (user, movie, context), kích thước (num_nodes, num_features).\n",
    "    - movie_features (Tensor, optional): đặc trưng nhị phân của phim (dùng cho các tác vụ khác, mặc định dùng biến toàn cục).\n",
    "\n",
    "    Return:\n",
    "    - Data: đối tượng torch_geometric.data.Data chứa:\n",
    "        - x: đặc trưng của các node (Tensor).\n",
    "        - edge_index: chỉ số cạnh theo định dạng COO (Tensor 2×E).\n",
    "        - edge_attr: trọng số các cạnh (Tensor E).\n",
    "    \"\"\"\n",
    "    \n",
    "    features = features.to(device)\n",
    "    \n",
    "    user_ids = ratings['user_id'].values\n",
    "    item_ids = ratings['movie_id'].values + num_users\n",
    "    ratings_values = ratings['rating'].values\n",
    "\n",
    "    # Nối\n",
    "    edges = np.stack([\n",
    "        np.concatenate([user_ids, item_ids]),\n",
    "        np.concatenate([item_ids, user_ids])\n",
    "    ])\n",
    "    edge_index = torch.tensor(edges, dtype=torch.long).to(device)\n",
    "\n",
    "    edge_attr = torch.tensor(\n",
    "        np.concatenate([ratings_values, ratings_values]),\n",
    "        dtype=torch.float\n",
    "    ).to(device)\n",
    "\n",
    "    new_edges_tensor, temp_ratings_tensor = create_new_user_item_edge(ratings)\n",
    "    print(new_edges_tensor.shape)\n",
    "    edge_index = torch.cat([edge_index, new_edges_tensor.to(edge_index.device)], dim=1)\n",
    "    edge_attr = torch.cat([edge_attr, temp_ratings_tensor.to(edge_attr.device)], dim=0)\n",
    "\n",
    "    # Tính node id cho context\n",
    "    CONTEXT_OFFSET = num_users + num_items\n",
    "\n",
    "    '''Tạo các cạnh nối tới context'''\n",
    "    # Tạo các cạnh user ↔ context\n",
    "    user_time_edges = ratings.groupby(['user_id', 'time_of_day'], observed=True)['rating'].mean().reset_index()\n",
    "    user_time_edges.rename(columns={'rating': 'weight'}, inplace=True)\n",
    "    user_time_edges = user_time_edges.dropna()\n",
    "    print(\"User and context:\", user_time_edges.shape)\n",
    "\n",
    "    # Convert sang torch tensor\n",
    "    user_ids = torch.tensor(user_time_edges['user_id'].values, dtype=torch.long)\n",
    "    context_ids = torch.tensor(user_time_edges['time_of_day'].cat.codes.values + CONTEXT_OFFSET, dtype=torch.long)\n",
    "    edge_weight_context = torch.tensor(user_time_edges['weight'].values, dtype=torch.float)\n",
    "    edge_context = torch.stack([context_ids, user_ids], dim=0)\n",
    "\n",
    "    # Nối vào edge_index và edge_attr\n",
    "    edge_index = torch.cat([edge_index, edge_context.to(edge_index.device)], dim=1)\n",
    "    edge_attr = torch.cat([edge_attr, edge_weight_context.to(edge_attr.device)], dim=0)\n",
    "\n",
    "    # Tạo các cạnh movie ↔ context\n",
    "    item_time_edges = ratings.groupby(['movie_id', 'time_of_day'], observed=True)['rating'].mean().reset_index()\n",
    "    item_time_edges.rename(columns={'rating': 'weight'}, inplace=True)\n",
    "    item_time_edges = item_time_edges.dropna()\n",
    "    print(\"Item and context:\", item_time_edges.shape)\n",
    "\n",
    "    # Convert sang torch tensor\n",
    "    item_ids = torch.tensor(item_time_edges['movie_id'].values, dtype=torch.long)\n",
    "    context_ids = torch.tensor(item_time_edges['time_of_day'].cat.codes.values + CONTEXT_OFFSET, dtype=torch.long)\n",
    "    edge_weight_item_context = torch.tensor(item_time_edges['weight'].values, dtype=torch.float)\n",
    "    edge_item_context = torch.stack([context_ids, item_ids], dim=0)\n",
    "\n",
    "    # Nối vào edge_index và edge_attr\n",
    "    edge_index = torch.cat([edge_index, edge_item_context.to(edge_index.device)], dim=1)\n",
    "    edge_attr = torch.cat([edge_attr, edge_weight_item_context.to(edge_attr.device)], dim=0)\n",
    "    \n",
    "    return Data(x=features, edge_index=edge_index, edge_attr=edge_attr)"
   ]
  },
  {
   "cell_type": "code",
   "execution_count": 23,
   "metadata": {
    "execution": {
     "iopub.execute_input": "2025-05-31T06:16:22.345122Z",
     "iopub.status.busy": "2025-05-31T06:16:22.344891Z",
     "iopub.status.idle": "2025-05-31T06:16:22.361736Z",
     "shell.execute_reply": "2025-05-31T06:16:22.361089Z",
     "shell.execute_reply.started": "2025-05-31T06:16:22.345106Z"
    },
    "trusted": true
   },
   "outputs": [],
   "source": [
    "def prepare_graph_data(train_ratings, test_ratings, feature_matrix):\n",
    "    train_data_extra = create_interaction_graph_extra(train_ratings, feature_matrix)\n",
    "    train_data = create_interaction_graph(train_ratings, feature_matrix)\n",
    "    test_data = create_interaction_graph(test_ratings, feature_matrix)\n",
    "\n",
    "    return train_data_extra, train_data, test_data"
   ]
  },
  {
   "cell_type": "code",
   "execution_count": 24,
   "metadata": {
    "execution": {
     "iopub.execute_input": "2025-05-31T06:16:22.362679Z",
     "iopub.status.busy": "2025-05-31T06:16:22.362424Z",
     "iopub.status.idle": "2025-05-31T06:16:22.781784Z",
     "shell.execute_reply": "2025-05-31T06:16:22.781204Z",
     "shell.execute_reply.started": "2025-05-31T06:16:22.362660Z"
    },
    "trusted": true
   },
   "outputs": [
    {
     "data": {
      "text/plain": [
       "(tensor([[ 1.,  1., 19.],\n",
       "         [ 0.,  3., 13.],\n",
       "         [ 1.,  1., 20.],\n",
       "         ...,\n",
       "         [ 1.,  1., 18.],\n",
       "         [ 0.,  3., 10.],\n",
       "         [ 1.,  1., 18.]], device='cuda:0'),\n",
       " tensor([[0., 0., 1.,  ..., 0., 0., 0.],\n",
       "         [1., 1., 0.,  ..., 1., 0., 0.],\n",
       "         [0., 0., 0.,  ..., 1., 0., 0.],\n",
       "         ...,\n",
       "         [0., 0., 0.,  ..., 0., 0., 0.],\n",
       "         [0., 0., 0.,  ..., 0., 0., 0.],\n",
       "         [0., 0., 0.,  ..., 0., 0., 0.]], device='cuda:0'))"
      ]
     },
     "execution_count": 24,
     "metadata": {},
     "output_type": "execute_result"
    }
   ],
   "source": [
    "user_features, movie_features"
   ]
  },
  {
   "cell_type": "code",
   "execution_count": 25,
   "metadata": {
    "execution": {
     "iopub.execute_input": "2025-05-31T06:16:22.782595Z",
     "iopub.status.busy": "2025-05-31T06:16:22.782402Z",
     "iopub.status.idle": "2025-05-31T06:19:17.754562Z",
     "shell.execute_reply": "2025-05-31T06:19:17.753820Z",
     "shell.execute_reply.started": "2025-05-31T06:16:22.782581Z"
    },
    "trusted": true
   },
   "outputs": [
    {
     "name": "stdout",
     "output_type": "stream",
     "text": [
      "torch.Size([2, 2923])\n",
      "User and context: (1426, 3)\n",
      "Item and context: (5547, 3)\n",
      "User and context: (1426, 3)\n",
      "Item and context: (5547, 3)\n",
      "User and context: (1335, 3)\n",
      "Item and context: (4090, 3)\n"
     ]
    }
   ],
   "source": [
    "train_data_extra, train_data, test_data = prepare_graph_data(train_ratings, test_ratings, feature_matrix)\n",
    "train_data_extra = train_data_extra.to(device)\n",
    "train_data = train_data.to(device)\n",
    "test_data = test_data.to(device)\n",
    "\n",
    "train_loader_extra = DataLoader([train_data_extra], batch_size=8)\n",
    "train_loader = DataLoader([train_data], batch_size=8)\n",
    "test_loader = DataLoader([test_data], batch_size=8)"
   ]
  },
  {
   "cell_type": "code",
   "execution_count": 26,
   "metadata": {
    "execution": {
     "iopub.execute_input": "2025-05-31T06:19:17.755577Z",
     "iopub.status.busy": "2025-05-31T06:19:17.755357Z",
     "iopub.status.idle": "2025-05-31T06:19:17.760126Z",
     "shell.execute_reply": "2025-05-31T06:19:17.759481Z",
     "shell.execute_reply.started": "2025-05-31T06:19:17.755561Z"
    },
    "trusted": true
   },
   "outputs": [
    {
     "name": "stdout",
     "output_type": "stream",
     "text": [
      "edge_index max: 2628, num_nodes: 2629\n",
      "edge_index min: 0\n"
     ]
    }
   ],
   "source": [
    "print(f\"edge_index max: {train_data.edge_index.max()}, num_nodes: {train_data.x.size(0)}\")\n",
    "print(f\"edge_index min: {train_data.edge_index.min()}\")"
   ]
  },
  {
   "cell_type": "code",
   "execution_count": 27,
   "metadata": {
    "execution": {
     "iopub.execute_input": "2025-05-31T06:19:17.764173Z",
     "iopub.status.busy": "2025-05-31T06:19:17.763929Z",
     "iopub.status.idle": "2025-05-31T06:19:17.776944Z",
     "shell.execute_reply": "2025-05-31T06:19:17.776380Z",
     "shell.execute_reply.started": "2025-05-31T06:19:17.764156Z"
    },
    "trusted": true
   },
   "outputs": [
    {
     "name": "stdout",
     "output_type": "stream",
     "text": [
      "edge_index max: 2628, num_nodes: 2629\n",
      "edge_index min: 0\n"
     ]
    }
   ],
   "source": [
    "print(f\"edge_index max: {test_data.edge_index.max()}, num_nodes: {test_data.x.size(0)}\")\n",
    "print(f\"edge_index min: {test_data.edge_index.min()}\")"
   ]
  },
  {
   "cell_type": "markdown",
   "metadata": {},
   "source": [
    "### Graph Convolutional Network"
   ]
  },
  {
   "cell_type": "code",
   "execution_count": 28,
   "metadata": {
    "execution": {
     "iopub.execute_input": "2025-05-31T06:19:17.777969Z",
     "iopub.status.busy": "2025-05-31T06:19:17.777716Z",
     "iopub.status.idle": "2025-05-31T06:19:17.792022Z",
     "shell.execute_reply": "2025-05-31T06:19:17.791290Z",
     "shell.execute_reply.started": "2025-05-31T06:19:17.777945Z"
    },
    "trusted": true
   },
   "outputs": [],
   "source": [
    "class GCN(torch.nn.Module):\n",
    "    def __init__(self, num_features, hidden_channels):\n",
    "        super(GCN, self).__init__()\n",
    "        # Main path\n",
    "        self.conv1 = GCNConv(num_features, hidden_channels)        \n",
    "        self.conv2 = GCNConv(hidden_channels, hidden_channels // 2)\n",
    "        self.conv3 = GCNConv(hidden_channels // 2, hidden_channels // 4)\n",
    "        self.dropout = torch.nn.Dropout(0.5)\n",
    "        # Thêm nhiều attention heads\n",
    "        self.attention = torch.nn.MultiheadAttention(\n",
    "            hidden_channels // 4, \n",
    "            num_heads=8,  # Tăng số lượng heads\n",
    "            dropout=0.2   # Thêm dropout\n",
    "        )\n",
    "\n",
    "    def forward(self, x, edge_index, edge_attr):\n",
    "        # Main path\n",
    "        x = F.relu((self.conv1(x, edge_index, edge_weight=edge_attr)))\n",
    "        x = self.dropout(x)\n",
    "        x = F.relu((self.conv2(x, edge_index, edge_weight=edge_attr)))\n",
    "        x = self.dropout(x)\n",
    "        x = self.conv3(x, edge_index, edge_weight=edge_attr)\n",
    "        # Apply attention\n",
    "        x = x.unsqueeze(0)\n",
    "        x, _ = self.attention(x, x, x)\n",
    "        x = x.squeeze(0)\n",
    "        return x\n",
    "        "
   ]
  },
  {
   "cell_type": "markdown",
   "metadata": {},
   "source": [
    "### Training"
   ]
  },
  {
   "cell_type": "code",
   "execution_count": 29,
   "metadata": {
    "execution": {
     "iopub.execute_input": "2025-05-31T06:19:17.793179Z",
     "iopub.status.busy": "2025-05-31T06:19:17.792949Z",
     "iopub.status.idle": "2025-05-31T06:19:17.810398Z",
     "shell.execute_reply": "2025-05-31T06:19:17.809718Z",
     "shell.execute_reply.started": "2025-05-31T06:19:17.793164Z"
    },
    "trusted": true
   },
   "outputs": [],
   "source": [
    "def train(model, train_loader, optimizer, mse_criterion, mae_criterion, smooth1_criterion):\n",
    "    model.train()\n",
    "    mse_total = 0\n",
    "    mae_total = 0\n",
    "    smooth1_total = 0\n",
    "    \n",
    "    for batch in train_loader:\n",
    "        batch = batch.to(device)\n",
    "        optimizer.zero_grad()\n",
    "        \n",
    "        out = model(batch.x, batch.edge_index, batch.edge_attr)\n",
    "        edge_index = batch.edge_index\n",
    "        user_movie_mask = ((edge_index[0] < num_users) & (edge_index[1] >= num_users))\n",
    "        filtered_edge_index = edge_index[:, user_movie_mask]\n",
    "        filtered_edge_attr = batch.edge_attr[user_movie_mask]\n",
    "        \n",
    "        # Tính prediction và giới hạn trong khoảng [1;5]\n",
    "        pred = torch.sum(out[filtered_edge_index[0]] * out[filtered_edge_index[1]], dim=1)\n",
    "        pred = torch.clamp(pred, min=1.0, max=5.0)  # Giới hạn prediction\n",
    "\n",
    "        mse_loss = mse_criterion(pred, filtered_edge_attr)\n",
    "        mae_loss = mae_criterion(pred, filtered_edge_attr)\n",
    "        smooth1_loss = smooth1_criterion(pred, filtered_edge_attr)\n",
    "        \n",
    "        mse_loss.backward()\n",
    "        optimizer.step()\n",
    "        mse_total += mse_loss.item()\n",
    "        mae_total += mae_loss.item()\n",
    "        smooth1_total += smooth1_loss.item()\n",
    "\n",
    "    n = len(train_loader)\n",
    "    return mse_total / n, mae_total / n, smooth1_total / n\n",
    "\n",
    "def test(model, test_loader, mse_criterion, mae_criterion, smooth1_criterion):\n",
    "    model.eval()\n",
    "    mse_total = 0\n",
    "    mae_total = 0\n",
    "    smooth1_total = 0\n",
    "    \n",
    "    with torch.no_grad():\n",
    "        for batch in test_loader:\n",
    "            batch = batch.to(device)\n",
    "            \n",
    "            out = model(batch.x, batch.edge_index, batch.edge_attr)\n",
    "            edge_index = batch.edge_index\n",
    "            edge_attr = batch.edge_attr\n",
    "            \n",
    "            user_movie_mask = ((edge_index[0] < num_users) & (edge_index[1] >= num_users))\n",
    "            filtered_edge_index = edge_index[:, user_movie_mask]\n",
    "            filtered_edge_attr = edge_attr[user_movie_mask]\n",
    "            \n",
    "            pred = (out[filtered_edge_index[0]] * out[filtered_edge_index[1]]).sum(dim=1)\n",
    "            pred = torch.clamp(pred, min=1.0, max=5.0)  # Giới hạn prediction\n",
    "            \n",
    "            mse_loss = mse_criterion(pred, filtered_edge_attr)\n",
    "            mae_loss = mae_criterion(pred, filtered_edge_attr)\n",
    "            smooth1_loss = smooth1_criterion(pred, filtered_edge_attr)\n",
    "            mse_total += mse_loss.item()\n",
    "            mae_total += mae_loss.item()\n",
    "            smooth1_total += smooth1_loss.item()\n",
    "    n = len(test_loader)\n",
    "    return mse_total / n, mae_total / n, smooth1_total / n"
   ]
  },
  {
   "cell_type": "code",
   "execution_count": 30,
   "metadata": {
    "execution": {
     "iopub.execute_input": "2025-05-31T06:19:17.811417Z",
     "iopub.status.busy": "2025-05-31T06:19:17.811219Z",
     "iopub.status.idle": "2025-05-31T06:19:28.595231Z",
     "shell.execute_reply": "2025-05-31T06:19:28.594477Z",
     "shell.execute_reply.started": "2025-05-31T06:19:17.811404Z"
    },
    "trusted": true
   },
   "outputs": [
    {
     "name": "stdout",
     "output_type": "stream",
     "text": [
      "Epoch 10\n",
      "MSE: Train: 2.6150, Test: 2.4048\n",
      "MAE: Train: 1.2744, Test: 1.2098\n",
      "SmoothL1: Train: 0.8801, Test: 0.8228\n",
      "Epoch 20\n",
      "MSE: Train: 3.0276, Test: 2.7925\n",
      "MAE: Train: 1.3785, Test: 1.3124\n",
      "SmoothL1: Train: 0.9845, Test: 0.9233\n",
      "Epoch 30\n",
      "MSE: Train: 2.5402, Test: 2.0960\n",
      "MAE: Train: 1.2550, Test: 1.1343\n",
      "SmoothL1: Train: 0.8607, Test: 0.7438\n",
      "Epoch 40\n",
      "MSE: Train: 2.5127, Test: 2.3192\n",
      "MAE: Train: 1.2642, Test: 1.2220\n",
      "SmoothL1: Train: 0.8586, Test: 0.8130\n",
      "Epoch 50\n",
      "MSE: Train: 2.4516, Test: 2.0497\n",
      "MAE: Train: 1.2347, Test: 1.1225\n",
      "SmoothL1: Train: 0.8386, Test: 0.7314\n",
      "Epoch 60\n",
      "MSE: Train: 2.4586, Test: 2.1945\n",
      "MAE: Train: 1.2497, Test: 1.1825\n",
      "SmoothL1: Train: 0.8449, Test: 0.7777\n",
      "Epoch 70\n",
      "MSE: Train: 2.3367, Test: 2.0113\n",
      "MAE: Train: 1.2046, Test: 1.1141\n",
      "SmoothL1: Train: 0.8085, Test: 0.7215\n",
      "Epoch 80\n",
      "MSE: Train: 2.3135, Test: 2.1078\n",
      "MAE: Train: 1.2038, Test: 1.1550\n",
      "SmoothL1: Train: 0.8044, Test: 0.7531\n",
      "Epoch 90\n",
      "MSE: Train: 2.3457, Test: 1.9848\n",
      "MAE: Train: 1.2095, Test: 1.1089\n",
      "SmoothL1: Train: 0.8118, Test: 0.7151\n",
      "Epoch 100\n",
      "MSE: Train: 2.2652, Test: 1.9832\n",
      "MAE: Train: 1.1884, Test: 1.1111\n",
      "SmoothL1: Train: 0.7913, Test: 0.7156\n",
      "Epoch 110\n",
      "MSE: Train: 2.2874, Test: 2.0073\n",
      "MAE: Train: 1.1951, Test: 1.1236\n",
      "SmoothL1: Train: 0.7974, Test: 0.7245\n",
      "Epoch 120\n",
      "MSE: Train: 2.2405, Test: 1.9102\n",
      "MAE: Train: 1.1786, Test: 1.0840\n",
      "SmoothL1: Train: 0.7837, Test: 0.6931\n",
      "Epoch 130\n",
      "MSE: Train: 2.2014, Test: 1.9093\n",
      "MAE: Train: 1.1689, Test: 1.0887\n",
      "SmoothL1: Train: 0.7728, Test: 0.6949\n",
      "Epoch 140\n",
      "MSE: Train: 2.2252, Test: 1.8913\n",
      "MAE: Train: 1.1822, Test: 1.0850\n",
      "SmoothL1: Train: 0.7825, Test: 0.6906\n",
      "Epoch 150\n",
      "MSE: Train: 2.1600, Test: 1.8558\n",
      "MAE: Train: 1.1576, Test: 1.0739\n",
      "SmoothL1: Train: 0.7625, Test: 0.6805\n",
      "Epoch 160\n",
      "MSE: Train: 2.1168, Test: 1.8148\n",
      "MAE: Train: 1.1492, Test: 1.0618\n",
      "SmoothL1: Train: 0.7532, Test: 0.6692\n",
      "Epoch 170\n",
      "MSE: Train: 2.0851, Test: 1.8131\n",
      "MAE: Train: 1.1369, Test: 1.0714\n",
      "SmoothL1: Train: 0.7421, Test: 0.6736\n",
      "Epoch 180\n",
      "MSE: Train: 2.1214, Test: 1.7004\n",
      "MAE: Train: 1.1564, Test: 1.0307\n",
      "SmoothL1: Train: 0.7569, Test: 0.6386\n",
      "Epoch 190\n",
      "MSE: Train: 2.0747, Test: 1.6750\n",
      "MAE: Train: 1.1335, Test: 1.0381\n",
      "SmoothL1: Train: 0.7390, Test: 0.6388\n",
      "Epoch 200\n",
      "MSE: Train: 1.9636, Test: 1.5262\n",
      "MAE: Train: 1.1167, Test: 0.9775\n",
      "SmoothL1: Train: 0.7165, Test: 0.5884\n",
      "Epoch 210\n",
      "MSE: Train: 1.8548, Test: 1.4485\n",
      "MAE: Train: 1.0854, Test: 0.9677\n",
      "SmoothL1: Train: 0.6867, Test: 0.5734\n",
      "Epoch 220\n",
      "MSE: Train: 2.1649, Test: 1.5941\n",
      "MAE: Train: 1.1489, Test: 0.9809\n",
      "SmoothL1: Train: 0.7581, Test: 0.5987\n",
      "Epoch 230\n",
      "MSE: Train: 1.7693, Test: 1.3417\n",
      "MAE: Train: 1.0594, Test: 0.9291\n",
      "SmoothL1: Train: 0.6629, Test: 0.5389\n",
      "Epoch 240\n",
      "MSE: Train: 1.7809, Test: 1.4762\n",
      "MAE: Train: 1.0789, Test: 1.0039\n",
      "SmoothL1: Train: 0.6744, Test: 0.5993\n",
      "Epoch 250\n",
      "MSE: Train: 1.7220, Test: 1.2553\n",
      "MAE: Train: 1.0583, Test: 0.9085\n",
      "SmoothL1: Train: 0.6562, Test: 0.5175\n",
      "Epoch 260\n",
      "MSE: Train: 1.6770, Test: 1.4047\n",
      "MAE: Train: 1.0273, Test: 0.9831\n",
      "SmoothL1: Train: 0.6345, Test: 0.5798\n",
      "Epoch 270\n",
      "MSE: Train: 1.8916, Test: 1.3290\n",
      "MAE: Train: 1.0750, Test: 0.9031\n",
      "SmoothL1: Train: 0.6849, Test: 0.5228\n",
      "Epoch 280\n",
      "MSE: Train: 1.8399, Test: 1.6113\n",
      "MAE: Train: 1.1176, Test: 1.0647\n",
      "SmoothL1: Train: 0.7034, Test: 0.6507\n",
      "Epoch 290\n",
      "MSE: Train: 1.5990, Test: 1.2546\n",
      "MAE: Train: 1.0180, Test: 0.9162\n",
      "SmoothL1: Train: 0.6189, Test: 0.5227\n",
      "Epoch 300\n",
      "MSE: Train: 1.5871, Test: 1.1691\n",
      "MAE: Train: 1.0064, Test: 0.8693\n",
      "SmoothL1: Train: 0.6109, Test: 0.4853\n",
      "Epoch 310\n",
      "MSE: Train: 1.5702, Test: 1.1831\n",
      "MAE: Train: 1.0157, Test: 0.8895\n",
      "SmoothL1: Train: 0.6150, Test: 0.4997\n",
      "Epoch 320\n",
      "MSE: Train: 1.5816, Test: 1.2878\n",
      "MAE: Train: 1.0033, Test: 0.9397\n",
      "SmoothL1: Train: 0.6093, Test: 0.5424\n",
      "Epoch 330\n",
      "MSE: Train: 1.5947, Test: 1.2136\n",
      "MAE: Train: 1.0327, Test: 0.9058\n",
      "SmoothL1: Train: 0.6275, Test: 0.5131\n",
      "Epoch 340\n",
      "MSE: Train: 1.5493, Test: 1.1414\n",
      "MAE: Train: 0.9926, Test: 0.8612\n",
      "SmoothL1: Train: 0.6000, Test: 0.4778\n",
      "Epoch 350\n",
      "MSE: Train: 1.4981, Test: 1.3605\n",
      "MAE: Train: 0.9846, Test: 0.9705\n",
      "SmoothL1: Train: 0.5886, Test: 0.5710\n",
      "Epoch 360\n",
      "MSE: Train: 1.4933, Test: 1.1971\n",
      "MAE: Train: 0.9809, Test: 0.9020\n",
      "SmoothL1: Train: 0.5853, Test: 0.5096\n",
      "Epoch 370\n",
      "MSE: Train: 1.6460, Test: 1.1704\n",
      "MAE: Train: 1.0117, Test: 0.8906\n",
      "SmoothL1: Train: 0.6207, Test: 0.4993\n",
      "Epoch 380\n",
      "MSE: Train: 1.5602, Test: 1.2052\n",
      "MAE: Train: 1.0287, Test: 0.9067\n",
      "SmoothL1: Train: 0.6237, Test: 0.5136\n",
      "Epoch 390\n",
      "MSE: Train: 1.4536, Test: 1.3022\n",
      "MAE: Train: 0.9777, Test: 0.9477\n",
      "SmoothL1: Train: 0.5804, Test: 0.5506\n",
      "Epoch 400\n",
      "MSE: Train: 1.5280, Test: 1.1492\n",
      "MAE: Train: 0.9860, Test: 0.8791\n",
      "SmoothL1: Train: 0.5928, Test: 0.4899\n"
     ]
    }
   ],
   "source": [
    "hidden_channels = 256\n",
    "model = GCN(num_features=feature_matrix.shape[1], hidden_channels=hidden_channels).to(device)\n",
    "optimizer = optim.AdamW(model.parameters(), lr=0.0004, weight_decay=1e-5)\n",
    "mse_criterion = torch.nn.MSELoss()\n",
    "mae_criterion = torch.nn.L1Loss()\n",
    "smooth1_criterion = torch.nn.SmoothL1Loss()\n",
    "\n",
    "train_mse_losses = []\n",
    "train_mae_losses = []\n",
    "train_smooth1_losses = []\n",
    "test_mse_losses = []\n",
    "test_mae_losses = []\n",
    "test_smooth1_losses = []\n",
    "num_epochs = 400\n",
    "\n",
    "for epoch in range(num_epochs):\n",
    "    train_mse, train_mae, train_smooth1 = train(model, train_loader_extra, optimizer, mse_criterion, mae_criterion, smooth1_criterion)\n",
    "    test_mse, test_mae, test_smooth1 = test(model, test_loader, mse_criterion, mae_criterion, smooth1_criterion)\n",
    "\n",
    "    train_mse_losses.append(train_mse)\n",
    "    train_mae_losses.append(train_mae)\n",
    "    train_smooth1_losses.append(train_smooth1)\n",
    "    test_mse_losses.append(test_mse)\n",
    "    test_mae_losses.append(test_mae)\n",
    "    test_smooth1_losses.append(test_smooth1)\n",
    "\n",
    "    if (epoch + 1) % 10 == 0:\n",
    "        print(f\"Epoch {epoch + 1}\")\n",
    "        print(f\"MSE: Train: {train_mse:.4f}, Test: {test_mse:.4f}\")\n",
    "        print(f\"MAE: Train: {train_mae:.4f}, Test: {test_mae:.4f}\")\n",
    "        print(f\"SmoothL1: Train: {train_smooth1:.4f}, Test: {test_smooth1:.4f}\")"
   ]
  },
  {
   "cell_type": "code",
   "execution_count": 31,
   "metadata": {
    "execution": {
     "iopub.execute_input": "2025-05-31T06:19:28.596340Z",
     "iopub.status.busy": "2025-05-31T06:19:28.596047Z",
     "iopub.status.idle": "2025-05-31T06:19:29.081780Z",
     "shell.execute_reply": "2025-05-31T06:19:29.080970Z",
     "shell.execute_reply.started": "2025-05-31T06:19:28.596313Z"
    },
    "trusted": true
   },
   "outputs": [
    {
     "data": {
      "image/png": "[encoded data removed]",
      "text/plain": [
       "<Figure size 1200x600 with 1 Axes>"
      ]
     },
     "metadata": {},
     "output_type": "display_data"
    }
   ],
   "source": [
    "plt.figure(figsize=(12, 6))\n",
    "plt.plot(range(1, num_epochs + 1), train_mse_losses, label='Train Loss', color='blue', marker='o', markersize=5, linestyle='-')\n",
    "plt.plot(range(1, num_epochs + 1), test_mse_losses, label='Test Loss', color='orange', marker='o', markersize=5, linestyle='-')\n",
    "plt.title('Training and Testing Loss Over Epochs', fontsize=16)\n",
    "plt.xlabel('Epochs', fontsize=14)\n",
    "plt.ylabel('Loss', fontsize=14)\n",
    "plt.xticks(range(1, num_epochs + 1, 10))\n",
    "plt.legend(fontsize=12)\n",
    "plt.grid(True, linestyle='--', alpha=0.7)\n",
    "plt.tight_layout()\n",
    "plt.show()"
   ]
  },
  {
   "cell_type": "code",
   "execution_count": 32,
   "metadata": {
    "execution": {
     "iopub.execute_input": "2025-05-31T06:19:29.082900Z",
     "iopub.status.busy": "2025-05-31T06:19:29.082604Z",
     "iopub.status.idle": "2025-05-31T06:19:29.385106Z",
     "shell.execute_reply": "2025-05-31T06:19:29.384355Z",
     "shell.execute_reply.started": "2025-05-31T06:19:29.082878Z"
    },
    "trusted": true
   },
   "outputs": [
    {
     "name": "stdout",
     "output_type": "stream",
     "text": [
      "Threshold =  3\n",
      "Train Metrics:\n",
      "Precision: 0.8518\n",
      "Recall: 0.9325\n",
      "F1-Score: 0.8903\n",
      "AUC-ROC (ranking): 0.6828\n",
      "RMSE on 5 ratings: 1.2609\n",
      "\n",
      "Test Metrics:\n",
      "Precision: 0.8753\n",
      "Recall: 0.8361\n",
      "F1-Score: 0.8553\n",
      "AUC-ROC (ranking): 0.6982\n",
      "RMSE on 5 ratings: 1.5517\n",
      "Best MAE: 0.8584\n",
      "=========================================\n",
      "Threshold =  3.5\n",
      "Train Metrics:\n",
      "Precision: 0.6528\n",
      "Recall: 0.6950\n",
      "F1-Score: 0.6733\n",
      "AUC-ROC (ranking): 0.6612\n",
      "RMSE on 5 ratings: 1.2609\n",
      "\n",
      "Test Metrics:\n",
      "Precision: 0.7140\n",
      "Recall: 0.4221\n",
      "F1-Score: 0.5306\n",
      "AUC-ROC (ranking): 0.6761\n",
      "RMSE on 5 ratings: 1.5517\n",
      "Best MAE: 0.8584\n",
      "=========================================\n",
      "Threshold =  4\n",
      "Train Metrics:\n",
      "Precision: 0.7201\n",
      "Recall: 0.3054\n",
      "F1-Score: 0.4289\n",
      "AUC-ROC (ranking): 0.6612\n",
      "RMSE on 5 ratings: 1.2609\n",
      "\n",
      "Test Metrics:\n",
      "Precision: 0.7997\n",
      "Recall: 0.0443\n",
      "F1-Score: 0.0840\n",
      "AUC-ROC (ranking): 0.6761\n",
      "RMSE on 5 ratings: 1.5517\n",
      "Best MAE: 0.8584\n",
      "=========================================\n"
     ]
    }
   ],
   "source": [
    "def evaluate_model(model, data_loader, threshold = 3):\n",
    "    model.eval()\n",
    "    true_ratings = []\n",
    "    pred_ratings = []\n",
    "\n",
    "    with torch.no_grad():\n",
    "        for data in data_loader:\n",
    "            edge_index = data.edge_index\n",
    "            edge_attr = data.edge_attr\n",
    "            out = model(data.x, edge_index, edge_attr)\n",
    "\n",
    "            # Lọc các cạnh user-movie trước khi tính toán\n",
    "            user_movie_mask = ((edge_index[0] < num_users) & (edge_index[1] >= num_users))\n",
    "            edge_index = edge_index[:, user_movie_mask]\n",
    "            edge_attr = edge_attr[user_movie_mask]\n",
    "            source_embeddings = out[edge_index[0]]\n",
    "            target_embeddings = out[edge_index[1]]\n",
    "            edge_scores = (source_embeddings * target_embeddings).sum(dim=1)\n",
    "            edge_scores = torch.clamp(edge_scores, min=1.0, max=5.0)\n",
    "            # edge_scores = torch.round(edge_scores)\n",
    "\n",
    "            true_ratings.extend(edge_attr.cpu().numpy())\n",
    "            pred_ratings.extend(edge_scores.cpu().numpy())\n",
    "\n",
    "    true_ratings = np.array(true_ratings)\n",
    "    pred_ratings = np.array(pred_ratings)\n",
    "\n",
    "    true_binary = (true_ratings >= threshold).astype(int)\n",
    "    pred_binary = (pred_ratings >= threshold).astype(int)\n",
    "\n",
    "    precision = precision_score(true_binary, pred_binary)\n",
    "    recall = recall_score(true_binary, pred_binary)\n",
    "    f1 = f1_score(true_binary, pred_binary)\n",
    "    roc_auc = roc_auc_score(true_binary, pred_ratings)\n",
    "    mask_5 = (true_ratings == 5)\n",
    "    rmse_5 = np.sqrt(mean_squared_error(true_ratings[mask_5], pred_ratings[mask_5]))\n",
    "\n",
    "    ### ===> AUC TÍNH THEO RANKING\n",
    "    # Sắp xếp theo dự đoán\n",
    "    sorted_indices = np.argsort(pred_ratings)  # ascending\n",
    "    sorted_true = true_binary[sorted_indices]\n",
    "\n",
    "    M = np.sum(sorted_true)   # số positive\n",
    "    N = len(sorted_true) - M  # số negative\n",
    "\n",
    "    if M == 0 or N == 0:\n",
    "        auc_custom = float('nan')  # Tránh chia cho 0\n",
    "    else:\n",
    "        positive_ranks = np.where(sorted_true == 1)[0] + 1  # +1 vì rank bắt đầu từ 1\n",
    "        auc_custom = (np.sum(positive_ranks) - M * (M + 1) / 2) / (M * N)\n",
    "\n",
    "    return {\n",
    "        # 'Accuracy on 5 ratings' : accuracy_5,\n",
    "        'Precision': precision,\n",
    "        'Recall': recall,\n",
    "        'F1-Score': f1,\n",
    "        'AUC-ROC (ranking)': auc_custom,\n",
    "        'RMSE on 5 ratings' : rmse_5\n",
    "    }\n",
    "for threshold in [3, 3.5, 4]:\n",
    "    print(\"Threshold = \", threshold)\n",
    "    train_metrics = evaluate_model(model, train_loader, threshold)\n",
    "    print(\"Train Metrics:\")\n",
    "    for metric, value in train_metrics.items():\n",
    "        print(f\"{metric}: {value:.4f}\")\n",
    "    \n",
    "    \n",
    "    test_metrics = evaluate_model(model, test_loader, threshold)\n",
    "    print(\"\\nTest Metrics:\")\n",
    "    for metric, value in test_metrics.items():\n",
    "        print(f\"{metric}: {value:.4f}\")\n",
    "    print(f\"Best MAE: {np.min(test_mae_losses):.4f}\")\n",
    "    print(\"=========================================\")"
   ]
  },
  {
   "cell_type": "code",
   "execution_count": 33,
   "metadata": {
    "execution": {
     "iopub.execute_input": "2025-05-31T06:19:29.386301Z",
     "iopub.status.busy": "2025-05-31T06:19:29.386006Z",
     "iopub.status.idle": "2025-05-31T06:19:29.398979Z",
     "shell.execute_reply": "2025-05-31T06:19:29.398204Z",
     "shell.execute_reply.started": "2025-05-31T06:19:29.386275Z"
    },
    "trusted": true
   },
   "outputs": [],
   "source": [
    "def evaluate_model(model, data_loader, k=10, threshold = 3):\n",
    "    model.eval()\n",
    "    metrics = {\n",
    "        'MSE': 0.0,\n",
    "        'MAE': 0.0,\n",
    "        'SmoothL1': 0.0,\n",
    "        'Precision@10': 0.0,\n",
    "        'Recall@10': 0.0,\n",
    "        'NDCG@10': 0.0\n",
    "    }\n",
    "    \n",
    "    # Khởi tạo các criterion\n",
    "    mse_criterion = torch.nn.MSELoss()\n",
    "    mae_criterion = torch.nn.L1Loss()\n",
    "    smooth1_criterion = torch.nn.SmoothL1Loss()\n",
    "    \n",
    "    all_precisions = []\n",
    "    all_recalls = []\n",
    "    all_ndcgs = []\n",
    "    \n",
    "    with torch.no_grad():\n",
    "        for batch in data_loader:\n",
    "            batch = batch.to(device)\n",
    "            \n",
    "            # Forward pass\n",
    "            out = model(batch.x, batch.edge_index, batch.edge_attr)\n",
    "            edge_index = batch.edge_index\n",
    "            edge_attr = batch.edge_attr\n",
    "            \n",
    "            # Lọc chỉ cạnh user-movie\n",
    "            user_movie_mask = ((edge_index[0] < num_users) & (edge_index[1] >= num_users))\n",
    "            filtered_edge_index = edge_index[:, user_movie_mask]\n",
    "            filtered_edge_attr = edge_attr[user_movie_mask]\n",
    "            \n",
    "            # Tính predictions\n",
    "            pred = (out[filtered_edge_index[0]] * out[filtered_edge_index[1]]).sum(dim=1)\n",
    "            pred = torch.clamp(pred, min=1.0, max=5.49)\n",
    "            \n",
    "            # Tính các loss\n",
    "            metrics['MSE'] += mse_criterion(pred, filtered_edge_attr).item()\n",
    "            metrics['MAE'] += mae_criterion(pred, filtered_edge_attr).item()\n",
    "            metrics['SmoothL1'] += smooth1_criterion(pred, filtered_edge_attr).item()\n",
    "            \n",
    "            # Tính Precision@k, Recall@k và NDCG@k cho từng user\n",
    "            users = filtered_edge_index[0].unique()\n",
    "            for user in users:\n",
    "                # Lấy các item của user này\n",
    "                user_mask = (filtered_edge_index[0] == user)\n",
    "                user_items = filtered_edge_index[1][user_mask]\n",
    "                user_true = filtered_edge_attr[user_mask]\n",
    "                user_pred = pred[user_mask]\n",
    "                \n",
    "                # Sắp xếp theo predicted score\n",
    "                _, indices = torch.sort(user_pred, descending=True)\n",
    "                \n",
    "                # Lấy top k items\n",
    "                top_k_indices = indices[:k]\n",
    "                \n",
    "                # Tính Precision@k\n",
    "                relevant_items = (user_true[top_k_indices] >= threshold).sum()\n",
    "                precision_at_k = relevant_items / k\n",
    "                \n",
    "                # Tính Recall@k\n",
    "                total_relevant = (user_true >= threshold).sum()\n",
    "                if total_relevant > 0:\n",
    "                    recall_at_k = relevant_items / total_relevant\n",
    "                else:\n",
    "                    recall_at_k = torch.tensor(0.0)\n",
    "                \n",
    "                # Tính NDCG@k\n",
    "                dcg = 0.0\n",
    "                idcg = 0.0\n",
    "                for i, idx in enumerate(top_k_indices):\n",
    "                    rel = user_true[idx]\n",
    "                    dcg += (2 ** rel - 1) / torch.log2(torch.tensor(i + 2))\n",
    "                \n",
    "                # Tính IDCG\n",
    "                sorted_true, _ = torch.sort(user_true, descending=True)\n",
    "                for i in range(min(k, len(sorted_true))):\n",
    "                    rel = sorted_true[i]\n",
    "                    idcg += (2 ** rel - 1) / torch.log2(torch.tensor(i + 2))\n",
    "                \n",
    "                ndcg = dcg / idcg if idcg > 0 else 0.0\n",
    "                \n",
    "                all_precisions.append(precision_at_k.item())\n",
    "                all_recalls.append(recall_at_k.item())\n",
    "                all_ndcgs.append(ndcg.item())\n",
    "    \n",
    "    # Tính trung bình các metrics\n",
    "    n = len(data_loader)\n",
    "    metrics['MSE'] /= n\n",
    "    metrics['MAE'] /= n\n",
    "    metrics['SmoothL1'] /= n\n",
    "    metrics['Precision@10'] = np.mean(all_precisions)\n",
    "    metrics['Recall@10'] = np.mean(all_recalls)\n",
    "    metrics['NDCG@10'] = np.mean(all_ndcgs)\n",
    "    \n",
    "    return metrics"
   ]
  },
  {
   "cell_type": "code",
   "execution_count": 34,
   "metadata": {
    "execution": {
     "iopub.execute_input": "2025-05-31T06:19:29.399983Z",
     "iopub.status.busy": "2025-05-31T06:19:29.399727Z",
     "iopub.status.idle": "2025-05-31T06:19:33.907853Z",
     "shell.execute_reply": "2025-05-31T06:19:33.907190Z",
     "shell.execute_reply.started": "2025-05-31T06:19:29.399961Z"
    },
    "trusted": true
   },
   "outputs": [
    {
     "name": "stdout",
     "output_type": "stream",
     "text": [
      "Validation Metrics:\n",
      "MSE: 1.1496\n",
      "MAE: 0.8549\n",
      "SmoothL1: 0.4751\n",
      "Precision@10: 0.8932\n",
      "Recall@10: 0.2608\n",
      "NDCG@10: 0.6436\n",
      "\n",
      "Test Metrics:\n",
      "MSE: 1.1492\n",
      "MAE: 0.8791\n",
      "SmoothL1: 0.4899\n",
      "Precision@10: 0.7368\n",
      "Recall@10: 0.6845\n",
      "NDCG@10: 0.7867\n"
     ]
    }
   ],
   "source": [
    "# 3. Đánh giá trên tập validation\n",
    "train_metrics = evaluate_model(model, train_loader, k=10, threshold = 3)\n",
    "print(\"Validation Metrics:\")\n",
    "print(f\"MSE: {train_metrics['MSE']:.4f}\")\n",
    "print(f\"MAE: {train_metrics['MAE']:.4f}\")\n",
    "print(f\"SmoothL1: {train_metrics['SmoothL1']:.4f}\")\n",
    "print(f\"Precision@10: {train_metrics['Precision@10']:.4f}\")\n",
    "print(f\"Recall@10: {train_metrics['Recall@10']:.4f}\")\n",
    "print(f\"NDCG@10: {train_metrics['NDCG@10']:.4f}\")\n",
    "\n",
    "# 4. Đánh giá trên tập test\n",
    "test_metrics = evaluate_model(model, test_loader, k=10, threshold = 3)\n",
    "print(\"\\nTest Metrics:\")\n",
    "print(f\"MSE: {test_metrics['MSE']:.4f}\")\n",
    "print(f\"MAE: {test_metrics['MAE']:.4f}\")\n",
    "print(f\"SmoothL1: {test_metrics['SmoothL1']:.4f}\")\n",
    "print(f\"Precision@10: {test_metrics['Precision@10']:.4f}\")\n",
    "print(f\"Recall@10: {test_metrics['Recall@10']:.4f}\")\n",
    "print(f\"NDCG@10: {test_metrics['NDCG@10']:.4f}\")"
   ]
  },
  {
   "cell_type": "code",
   "execution_count": 35,
   "metadata": {
    "execution": {
     "iopub.execute_input": "2025-05-31T06:19:33.908747Z",
     "iopub.status.busy": "2025-05-31T06:19:33.908561Z",
     "iopub.status.idle": "2025-05-31T06:19:33.914621Z",
     "shell.execute_reply": "2025-05-31T06:19:33.913916Z",
     "shell.execute_reply.started": "2025-05-31T06:19:33.908731Z"
    },
    "trusted": true
   },
   "outputs": [],
   "source": [
    "def get_recommendations(model, train_data, user_id, num_users, top_k=10):\n",
    "    model.eval()\n",
    "    with torch.no_grad():\n",
    "        out = model(train_data.x.to(device), train_data.edge_index.to(device), train_data.edge_attr.to(device))\n",
    "        user_embedding = out[user_id]\n",
    "        movie_embeddings = out[num_users : num_users + num_items]\n",
    "        movie_ids = torch.arange(num_users, num_users + num_items, device=device)\n",
    "\n",
    "        scores = torch.matmul(movie_embeddings, user_embedding)\n",
    "\n",
    "        rated_movies = set(ratings[ratings['user_id'] == user_id]['movie_id'].values + num_users)\n",
    "\n",
    "        # Loại bỏ các phim đã đánh giá\n",
    "        mask = torch.tensor([i not in rated_movies for i in movie_ids.tolist()], device=device)\n",
    "        scores = scores[mask]\n",
    "        movie_ids = movie_ids[mask]\n",
    "        \n",
    "        # Lấy top-k movie ID\n",
    "        top_scores, top_indices = torch.topk(scores, top_k)\n",
    "        recommended_movie_ids = movie_ids[top_indices]\n",
    "        \n",
    "        return recommended_movie_ids.cpu().tolist(), top_scores.cpu().tolist()"
   ]
  },
  {
   "cell_type": "code",
   "execution_count": 36,
   "metadata": {
    "execution": {
     "iopub.execute_input": "2025-05-31T06:19:33.915690Z",
     "iopub.status.busy": "2025-05-31T06:19:33.915413Z",
     "iopub.status.idle": "2025-05-31T06:19:34.000042Z",
     "shell.execute_reply": "2025-05-31T06:19:33.999490Z",
     "shell.execute_reply.started": "2025-05-31T06:19:33.915669Z"
    },
    "trusted": true
   },
   "outputs": [
    {
     "name": "stdout",
     "output_type": "stream",
     "text": [
      "Recommended Movie IDs: [1228, 1042, 1200, 1069, 1242]\n",
      "Scores: [4.667060375213623, 4.602996826171875, 4.534823417663574, 4.464203357696533, 4.442900657653809]\n"
     ]
    }
   ],
   "source": [
    "recommended_ids, scores = get_recommendations(model, train_data, user_id=123, num_users=num_users, top_k=5)\n",
    "print(\"Recommended Movie IDs:\", recommended_ids)\n",
    "print(\"Scores:\", scores)"
   ]
  },
  {
   "cell_type": "code",
   "execution_count": null,
   "metadata": {
    "trusted": true
   },
   "outputs": [],
   "source": []
  }
 ],
 "metadata": {
  "kaggle": {
   "accelerator": "nvidiaTeslaT4",
   "dataSources": [
    {
     "datasetId": 6942700,
     "sourceId": 11131817,
     "sourceType": "datasetVersion"
    },
    {
     "datasetId": 6986608,
     "sourceId": 11417202,
     "sourceType": "datasetVersion"
    }
   ],
   "dockerImageVersionId": 31011,
   "isGpuEnabled": true,
   "isInternetEnabled": true,
   "language": "python",
   "sourceType": "notebook"
  },
  "kernelspec": {
   "display_name": "Python 3",
   "language": "python",
   "name": "python3"
  },
  "language_info": {
   "codemirror_mode": {
    "name": "ipython",
    "version": 3
   },
   "file_extension": ".py",
   "mimetype": "text/x-python",
   "name": "python",
   "nbconvert_exporter": "python",
   "pygments_lexer": "ipython3",
   "version": "3.10.3"
  }
 },
 "nbformat": 4,
 "nbformat_minor": 4
}
