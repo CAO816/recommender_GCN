{
 "cells": [
  {
   "cell_type": "code",
   "execution_count": 108,
   "metadata": {
    "id": "3c2jCjtGqWgc"
   },
   "outputs": [],
   "source": [
    "import pandas as pd\n",
    "import numpy as np\n",
    "import torch\n",
    "from sklearn.preprocessing import LabelEncoder\n",
    "from sklearn.model_selection import train_test_split\n",
    "from sklearn.preprocessing import StandardScaler, MinMaxScaler\n",
    "import torch.nn.functional as F\n",
    "from torch_geometric.nn import GCNConv\n",
    "import torch.optim as optim\n",
    "import matplotlib.pyplot as plt\n",
    "from torch_geometric.loader import DataLoader\n",
    "from torch_geometric.data import Data"
   ]
  },
  {
   "cell_type": "markdown",
   "metadata": {
    "id": "f87wbx6iqWgd"
   },
   "source": [
    "# Load Data"
   ]
  },
  {
   "cell_type": "code",
   "execution_count": 135,
   "metadata": {},
   "outputs": [],
   "source": [
    "u_cols = ['user_id', 'age', 'sex', 'occupation', 'zip_code']\n",
    "users = pd.read_csv('ml-100k/u.user', sep='|', names=u_cols, encoding='latin-1')\n",
    "users['user_id']=users['user_id']-1\n",
    "\n",
    "i_cols = ['movie_id', 'movie_title', 'release_date', 'video_release_date', 'IMBd_URL', 'unknown', 'Action', 'Adventure',\n",
    "          'Animation', 'Children', 'Comedy', 'Crime', 'Documentary', 'Drama', 'Fantasy', 'Firm-Noir', 'Horror', 'Musical', 'Mystery', 'Romance', 'Sci-Fi', 'Thriller', 'War', 'Western']\n",
    "items = pd.read_csv('ml-100k/u.item', sep='|', names=i_cols, encoding='latin-1')\n",
    "items['movie_id']=items['movie_id']-1\n",
    "genre_list = [\n",
    "    'unknown', 'Action', 'Adventure', 'Animation', \"Children\", 'Comedy', 'Crime', 'Documentary', \n",
    "    'Drama', 'Fantasy', 'Firm-Noir', 'Horror', 'Musical', 'Mystery', 'Romance', 'Sci-Fi', \n",
    "    'Thriller', 'War', 'Western'\n",
    "]\n",
    "\n",
    "r_cols = ['user_id', 'movie_id', 'rating', 'timestamp']\n",
    "ratings = pd.read_csv('ml-100k/u.data', sep='\\t', names =  r_cols, encoding='latin-1')\n",
    "ratings['user_id']=ratings['user_id']-1\n",
    "ratings['movie_id']=ratings['movie_id']-1\n",
    "\n",
    "ratings['timestamp'] = pd.to_datetime(ratings['timestamp'], unit='s')\n",
    "ratings['day_of_week'] = ratings['timestamp'].dt.dayofweek\n",
    "ratings['hour'] = ratings['timestamp'].dt.hour\n",
    "ratings['time_of_day'] = pd.cut(ratings['hour'],\n",
    "                                bins=[0, 6, 12, 18, 24],\n",
    "                                labels=[0, 1, 2, 3],\n",
    "                                include_lowest=True)\n",
    "ratings['month'] = ratings['timestamp'].dt.month\n",
    "ratings['is_weekend'] = ratings['day_of_week'].isin([5, 6]).astype(int)\n",
    "ratings['season'] = pd.cut(ratings['month'], \n",
    "                                bins=[0, 3, 6, 9, 12], \n",
    "                                labels=[0,1,2,3])"
   ]
  },
  {
   "cell_type": "code",
   "execution_count": 110,
   "metadata": {},
   "outputs": [
    {
     "name": "stdout",
     "output_type": "stream",
     "text": [
      "tensor([[0., 1., 0., 0., 0., 0., 1., 0., 0., 0., 0., 0., 0., 0., 0., 0., 0., 0.,\n",
      "         0., 0., 0., 0., 0., 0., 0., 0., 1., 0.],\n",
      "        [0., 0., 0., 1., 0., 1., 0., 0., 0., 0., 0., 0., 0., 0., 0., 0., 0., 0.,\n",
      "         0., 0., 1., 0., 0., 0., 0., 0., 0., 0.],\n",
      "        [0., 1., 0., 0., 0., 0., 1., 0., 0., 0., 0., 0., 0., 0., 0., 0., 0., 0.,\n",
      "         0., 0., 0., 0., 0., 0., 0., 0., 0., 1.],\n",
      "        [0., 1., 0., 0., 0., 0., 1., 0., 0., 0., 0., 0., 0., 0., 0., 0., 0., 0.,\n",
      "         0., 0., 0., 0., 0., 0., 0., 0., 1., 0.],\n",
      "        [0., 0., 1., 0., 0., 1., 0., 0., 0., 0., 0., 0., 0., 0., 0., 0., 0., 0.,\n",
      "         0., 0., 1., 0., 0., 0., 0., 0., 0., 0.]])\n",
      "torch.Size([943, 28])\n"
     ]
    }
   ],
   "source": [
    "label_encoder = LabelEncoder()\n",
    "users['sex'] = label_encoder.fit_transform(users['sex'])\n",
    "users['occupation'] = label_encoder.fit_transform(users['occupation'])\n",
    "bins = [0, 18, 30, 45, 60, 150]\n",
    "labels = list(range(len(bins)-1))\n",
    "users['age'] = pd.cut(users['age'], bins=bins, labels=labels, right=False)\n",
    "\n",
    "user_features = pd.get_dummies(users, columns=['age', 'sex', 'occupation'])\n",
    "\n",
    "user_features = user_features.drop(['user_id', 'zip_code'], axis=1).astype(float)\n",
    "user_features = torch.tensor(user_features.values, dtype=torch.float)\n",
    "print(user_features[:5])\n",
    "print(user_features.shape)"
   ]
  },
  {
   "cell_type": "code",
   "execution_count": 111,
   "metadata": {},
   "outputs": [
    {
     "name": "stdout",
     "output_type": "stream",
     "text": [
      "tensor([[0., 0., 0., 1., 1., 1., 0., 0., 0., 0., 0., 0., 0., 0., 0., 0., 0., 0.,\n",
      "         0.],\n",
      "        [0., 1., 1., 0., 0., 0., 0., 0., 0., 0., 0., 0., 0., 0., 0., 0., 1., 0.,\n",
      "         0.],\n",
      "        [0., 0., 0., 0., 0., 0., 0., 0., 0., 0., 0., 0., 0., 0., 0., 0., 1., 0.,\n",
      "         0.],\n",
      "        [0., 1., 0., 0., 0., 1., 0., 0., 1., 0., 0., 0., 0., 0., 0., 0., 0., 0.,\n",
      "         0.],\n",
      "        [0., 0., 0., 0., 0., 0., 1., 0., 1., 0., 0., 0., 0., 0., 0., 0., 1., 0.,\n",
      "         0.]])\n",
      "torch.Size([1682, 19])\n"
     ]
    }
   ],
   "source": [
    "item_features = items.to_numpy()\n",
    "item_features = item_features[:, -19:]\n",
    "item_features = item_features.astype(float)\n",
    "item_features = torch.tensor(item_features, dtype=torch.float)\n",
    "print(item_features[:5])\n",
    "print(item_features.shape)"
   ]
  },
  {
   "cell_type": "code",
   "execution_count": 112,
   "metadata": {},
   "outputs": [],
   "source": [
    "def extract_context_features(ratings):\n",
    "    day_of_week_ohe = pd.get_dummies(ratings['day_of_week'], prefix='day_of_week')\n",
    "    time_of_day_ohe = pd.get_dummies(ratings['time_of_day'], prefix='time_of_day')\n",
    "    month_ohe = pd.get_dummies(ratings['month'], prefix='month')\n",
    "    is_weekend_ohe = pd.get_dummies(ratings['is_weekend'], prefix='is_weekend')\n",
    "    season_ohe = pd.get_dummies(ratings['season'], prefix='season')\n",
    "    context_features = pd.concat([day_of_week_ohe, time_of_day_ohe, month_ohe, is_weekend_ohe, season_ohe], axis=1)\n",
    "\n",
    "    context_features = torch.tensor(context_features.values, dtype=torch.float)\n",
    "    return context_features"
   ]
  },
  {
   "cell_type": "code",
   "execution_count": 113,
   "metadata": {},
   "outputs": [
    {
     "name": "stdout",
     "output_type": "stream",
     "text": [
      "tensor([[0., 0., 0., 1., 0., 0., 0., 0., 0., 1., 0., 0., 0., 0., 0., 0., 0., 0.,\n",
      "         1., 1., 0., 0., 0., 0., 1.],\n",
      "        [0., 0., 0., 0., 0., 1., 0., 0., 0., 0., 1., 0., 0., 0., 1., 0., 0., 0.,\n",
      "         0., 0., 1., 0., 1., 0., 0.],\n",
      "        [0., 0., 0., 0., 1., 0., 0., 0., 1., 0., 0., 0., 0., 0., 0., 0., 0., 1.,\n",
      "         0., 1., 0., 0., 0., 0., 1.],\n",
      "        [0., 0., 0., 1., 0., 0., 0., 1., 0., 0., 0., 0., 0., 0., 0., 0., 0., 1.,\n",
      "         0., 1., 0., 0., 0., 0., 1.],\n",
      "        [1., 0., 0., 0., 0., 0., 0., 1., 0., 0., 0., 0., 1., 0., 0., 0., 0., 0.,\n",
      "         0., 1., 0., 1., 0., 0., 0.]])\n"
     ]
    },
    {
     "data": {
      "text/plain": [
       "torch.Size([100000, 25])"
      ]
     },
     "execution_count": 113,
     "metadata": {},
     "output_type": "execute_result"
    }
   ],
   "source": [
    "context_features = extract_context_features(ratings)\n",
    "print(context_features[:5])\n",
    "context_features.shape"
   ]
  },
  {
   "cell_type": "code",
   "execution_count": 114,
   "metadata": {},
   "outputs": [],
   "source": [
    "\n",
    "num_users = user_features.shape[0]\n",
    "num_items = item_features.shape[0]\n",
    "NUM_USER=num_users\n"
   ]
  },
  {
   "cell_type": "code",
   "execution_count": 115,
   "metadata": {},
   "outputs": [],
   "source": [
    "feature_matrix = torch.zeros((num_users + num_items, user_features.shape[1] + item_features.shape[1]))\n",
    "feature_matrix[:num_users, :user_features.shape[1]] = user_features\n",
    "feature_matrix[num_users:, user_features.shape[1]:] = item_features"
   ]
  },
  {
   "cell_type": "code",
   "execution_count": 116,
   "metadata": {},
   "outputs": [],
   "source": [
    "num_features=feature_matrix.shape[1]"
   ]
  },
  {
   "cell_type": "code",
   "execution_count": 117,
   "metadata": {},
   "outputs": [],
   "source": [
    "def create_interaction_graph(ratings, features):\n",
    "    # Tạo ma trận kết nối sparse hiệu quả\n",
    "    user_ids = ratings['user_id'].values\n",
    "    item_ids = ratings['movie_id'].values + num_users\n",
    "    ratings_values = ratings['rating'].values\n",
    "            \n",
    "    # Tạo edge_index\n",
    "    edge_index = torch.tensor([\n",
    "        np.concatenate([user_ids, item_ids]),\n",
    "        np.concatenate([item_ids, user_ids])\n",
    "    ], dtype=torch.long)\n",
    "    \n",
    "    # Tạo edge_attr\n",
    "    edge_attr = torch.tensor(\n",
    "        np.concatenate([ratings_values, ratings_values]), \n",
    "        dtype=torch.float\n",
    "    )\n",
    "    # Tạo PyTorch Geometric Data\n",
    "    graph_data = Data(\n",
    "        x=features, \n",
    "        edge_index=edge_index, \n",
    "        edge_attr=edge_attr\n",
    "    )\n",
    "    \n",
    "    return graph_data"
   ]
  },
  {
   "cell_type": "code",
   "execution_count": 118,
   "metadata": {},
   "outputs": [],
   "source": [
    "def prepare_graph_data(train_ratings, val_ratings, test_ratings, feature_matrix):\n",
    "    train_data = create_interaction_graph(train_ratings, feature_matrix)\n",
    "    val_data = create_interaction_graph(val_ratings, feature_matrix)\n",
    "    test_data = create_interaction_graph(test_ratings, feature_matrix)\n",
    "\n",
    "    return train_data, val_data, test_data"
   ]
  },
  {
   "cell_type": "code",
   "execution_count": 119,
   "metadata": {},
   "outputs": [],
   "source": [
    "rate_train_val, rate_test = train_test_split(ratings, test_size=0.2, random_state=1)\n",
    "rate_train, rate_val = train_test_split(rate_train_val, test_size=0.2, random_state=1)\n",
    "\n",
    "train_data, val_data, test_data = prepare_graph_data(rate_train, rate_val, rate_test, feature_matrix)\n",
    "train_loader = DataLoader([train_data], batch_size=16)\n",
    "val_loader = DataLoader([val_data], batch_size=16)\n",
    "test_loader = DataLoader([test_data], batch_size=16)"
   ]
  },
  {
   "cell_type": "code",
   "execution_count": 120,
   "metadata": {},
   "outputs": [
    {
     "name": "stdout",
     "output_type": "stream",
     "text": [
      "edge_index max: 2624, num_nodes: 2625\n",
      "edge_index min: 0\n"
     ]
    }
   ],
   "source": [
    "print(f\"edge_index max: {train_data.edge_index.max()}, num_nodes: {train_data.x.size(0)}\")\n",
    "print(f\"edge_index min: {train_data.edge_index.min()}\")"
   ]
  },
  {
   "cell_type": "code",
   "execution_count": 121,
   "metadata": {},
   "outputs": [],
   "source": [
    "class GCN(torch.nn.Module):\n",
    "    def __init__(self, num_features, hidden_channels):\n",
    "        super(GCN, self).__init__()\n",
    "        # Thêm nhiều lớp convolution\n",
    "        self.conv1 = GCNConv(num_features, hidden_channels)\n",
    "        self.conv2 = GCNConv(hidden_channels, hidden_channels // 2)\n",
    "        self.conv3 = GCNConv(hidden_channels // 2, hidden_channels)\n",
    "        self.dropout = torch.nn.Dropout(0.5)\n",
    "    \n",
    "    def forward(self, x, edge_index, edge_attr):\n",
    "        x = F.relu((self.conv1(x, edge_index, edge_weight=edge_attr)))\n",
    "        x = self.dropout(x)\n",
    "        x = F.relu((self.conv2(x, edge_index, edge_weight=edge_attr)))\n",
    "        x = self.dropout(x)\n",
    "        x = self.conv3(x, edge_index, edge_weight=edge_attr)\n",
    "        return x"
   ]
  },
  {
   "cell_type": "code",
   "execution_count": 122,
   "metadata": {},
   "outputs": [],
   "source": [
    "hidden_channels = 256\n",
    "model = GCN(num_features=feature_matrix.shape[1], hidden_channels=hidden_channels)\n",
    "optimizer = optim.AdamW(model.parameters(), lr=0.0005, weight_decay=1e-5)\n",
    "criterion = torch.nn.MSELoss()\n",
    "\n",
    "\n",
    "def train(model, train_loader, optimizer, criterion):\n",
    "    model.train()\n",
    "    total_loss = 0\n",
    "    for data in train_loader:\n",
    "        optimizer.zero_grad()\n",
    "        out = model(data.x, data.edge_index, data.edge_attr)\n",
    "        edge_scores = (out[data.edge_index[0]] * out[data.edge_index[1]]).sum(dim=1)\n",
    "        loss = torch.sqrt(criterion(edge_scores, data.edge_attr.to(torch.float)))\n",
    "        loss.backward()\n",
    "        optimizer.step()\n",
    "        total_loss += loss.item()\n",
    "    return total_loss / len(train_loader)\n",
    "\n",
    "\n",
    "\n",
    "def validate(model, val_loader, criterion):\n",
    "    model.eval()\n",
    "    total_loss = 0\n",
    "    with torch.no_grad():\n",
    "        for data in val_loader:\n",
    "            out = model(data.x, data.edge_index, data.edge_attr)\n",
    "            source_embeddings = out[data.edge_index[0]]\n",
    "            target_embeddings = out[data.edge_index[1]]\n",
    "            edge_scores = (source_embeddings * target_embeddings).sum(dim=1)\n",
    "            target = data.edge_attr.to(torch.float)\n",
    "            loss = torch.sqrt(criterion(edge_scores, target))\n",
    "            total_loss += loss.item()\n",
    "    return total_loss / len(val_loader)\n",
    "\n",
    "def test(model, test_loader, criterion):\n",
    "    model.eval()\n",
    "    total_loss = 0\n",
    "    with torch.no_grad():\n",
    "        for data in test_loader:\n",
    "            out = model(data.x, data.edge_index, data.edge_attr)\n",
    "            source_embeddings = out[data.edge_index[0]]\n",
    "            target_embeddings = out[data.edge_index[1]]\n",
    "            edge_scores = (source_embeddings * target_embeddings).sum(dim=1)\n",
    "            target = data.edge_attr.to(torch.float)\n",
    "            loss = torch.sqrt(criterion(edge_scores, target))\n",
    "            total_loss += loss.item()\n",
    "    return total_loss / len(test_loader)"
   ]
  },
  {
   "cell_type": "code",
   "execution_count": 123,
   "metadata": {},
   "outputs": [
    {
     "name": "stdout",
     "output_type": "stream",
     "text": [
      "Epoch 10, Train Loss: 1.7721, Validation Loss: 1.9428\n",
      "Epoch 20, Train Loss: 1.8560, Validation Loss: 1.8431\n",
      "Epoch 30, Train Loss: 1.7398, Validation Loss: 1.7328\n",
      "Epoch 40, Train Loss: 1.7073, Validation Loss: 1.6713\n",
      "Epoch 50, Train Loss: 1.6557, Validation Loss: 1.6270\n",
      "Epoch 60, Train Loss: 1.6207, Validation Loss: 1.5898\n",
      "Epoch 70, Train Loss: 1.5727, Validation Loss: 1.5502\n",
      "Epoch 80, Train Loss: 1.5374, Validation Loss: 1.5068\n",
      "Epoch 90, Train Loss: 1.4883, Validation Loss: 1.4595\n",
      "Epoch 100, Train Loss: 1.4366, Validation Loss: 1.4109\n",
      "Epoch 110, Train Loss: 1.3779, Validation Loss: 1.3613\n",
      "Epoch 120, Train Loss: 1.3297, Validation Loss: 1.3263\n",
      "Epoch 130, Train Loss: 1.2901, Validation Loss: 1.2802\n",
      "Epoch 140, Train Loss: 1.2385, Validation Loss: 1.2327\n",
      "Epoch 150, Train Loss: 1.2071, Validation Loss: 1.1960\n",
      "Epoch 160, Train Loss: 1.1690, Validation Loss: 1.1737\n",
      "Epoch 170, Train Loss: 1.1349, Validation Loss: 1.1900\n",
      "Epoch 180, Train Loss: 1.1619, Validation Loss: 1.1117\n",
      "Epoch 190, Train Loss: 1.1011, Validation Loss: 1.1946\n",
      "Epoch 200, Train Loss: 1.0840, Validation Loss: 1.3389\n",
      "Epoch 210, Train Loss: 1.0837, Validation Loss: 1.1252\n",
      "Epoch 220, Train Loss: 1.1178, Validation Loss: 1.2390\n",
      "Epoch 230, Train Loss: 1.0719, Validation Loss: 1.0960\n",
      "Epoch 240, Train Loss: 1.0779, Validation Loss: 1.2388\n",
      "Epoch 250, Train Loss: 1.0742, Validation Loss: 1.1379\n",
      "Epoch 260, Train Loss: 1.0662, Validation Loss: 1.1698\n",
      "Epoch 270, Train Loss: 1.0626, Validation Loss: 1.1901\n",
      "Epoch 280, Train Loss: 1.0732, Validation Loss: 1.2447\n",
      "Epoch 290, Train Loss: 1.0623, Validation Loss: 1.1422\n",
      "Epoch 300, Train Loss: 1.0753, Validation Loss: 1.1272\n"
     ]
    }
   ],
   "source": [
    "train_losses = []\n",
    "val_losses = []\n",
    "num_epochs = 300\n",
    "for epoch in range(num_epochs):\n",
    "    train_loss = train(model, train_loader, optimizer, criterion)\n",
    "    val_loss = validate(model, val_loader, criterion)\n",
    "\n",
    "    train_losses.append(train_loss)\n",
    "    val_losses.append(val_loss)\n",
    "\n",
    "    if (epoch + 1) % 10 == 0:\n",
    "        print(f'Epoch {epoch + 1}, Train Loss: {train_loss:.4f}, Validation Loss: {val_loss:.4f}')\n"
   ]
  },
  {
   "cell_type": "code",
   "execution_count": 124,
   "metadata": {},
   "outputs": [
    {
     "name": "stdout",
     "output_type": "stream",
     "text": [
      "Test Loss (RMSE): 1.0839\n"
     ]
    }
   ],
   "source": [
    "test_loss = test(model, test_loader, criterion)\n",
    "print(f'Test Loss (RMSE): {test_loss:.4f}')"
   ]
  },
  {
   "cell_type": "code",
   "execution_count": 125,
   "metadata": {},
   "outputs": [
    {
     "data": {
      "image/png": "[encoded data removed]",
      "text/plain": [
       "<Figure size 1200x600 with 1 Axes>"
      ]
     },
     "metadata": {},
     "output_type": "display_data"
    }
   ],
   "source": [
    "plt.figure(figsize=(12, 6))\n",
    "plt.plot(range(1, num_epochs + 1), train_losses, label='Train Loss', color='blue', marker='o', markersize=5, linestyle='-')\n",
    "plt.plot(range(1, num_epochs + 1), val_losses, label='Validation Loss', color='orange', marker='o', markersize=5, linestyle='-')\n",
    "plt.title('Training and Validation Loss Over Epochs', fontsize=16)\n",
    "plt.xlabel('Epochs', fontsize=14)\n",
    "plt.ylabel('Loss', fontsize=14)\n",
    "plt.xticks(range(1, num_epochs + 1, 10))\n",
    "plt.legend(fontsize=12)\n",
    "plt.grid(True, linestyle='--', alpha=0.7)\n",
    "plt.tight_layout()\n",
    "plt.show()"
   ]
  },
  {
   "cell_type": "code",
   "execution_count": 131,
   "metadata": {},
   "outputs": [
    {
     "name": "stdout",
     "output_type": "stream",
     "text": [
      "Train Metrics:\n",
      "Accuracy: 0.761140625\n",
      "F1 Score: 0.8527306532566497\n",
      "Precision: 0.8675657662602423\n",
      "Recall: 0.8383943624618765\n",
      "\n",
      "Validation Metrics:\n",
      "Accuracy: 0.807125\n",
      "F1 Score: 0.8889688421961575\n",
      "Precision: 0.8497145608363711\n",
      "Recall: 0.9320256506978498\n",
      "\n",
      "Test Metrics:\n",
      "Accuracy: 0.79735\n",
      "F1 Score: 0.8815777940102264\n",
      "Precision: 0.8499633782184912\n",
      "Recall: 0.9156348628307842\n"
     ]
    }
   ],
   "source": [
    "from sklearn.metrics import accuracy_score, f1_score, precision_score, recall_score\n",
    "\n",
    "def evaluate_model(model, data_loader):\n",
    "    model.eval()\n",
    "    true_ratings = []\n",
    "    pred_ratings = []\n",
    "    \n",
    "    with torch.no_grad():\n",
    "        for data in data_loader:\n",
    "            edge_index = data.edge_index\n",
    "            edge_attr = data.edge_attr\n",
    "            out = model(data.x, edge_index, edge_attr)\n",
    "            \n",
    "            source_embeddings = out[edge_index[0]]\n",
    "            target_embeddings = out[edge_index[1]]\n",
    "            edge_scores = (source_embeddings * target_embeddings).sum(dim=1)\n",
    "            \n",
    "            true_ratings.extend(edge_attr.cpu().numpy())\n",
    "            pred_ratings.extend(edge_scores.cpu().numpy())\n",
    "    \n",
    "    true_ratings = np.array(true_ratings)\n",
    "    pred_ratings = np.array(pred_ratings)\n",
    "    \n",
    "    threshold = 3\n",
    "    true_binary = (true_ratings >= threshold).astype(int)\n",
    "    pred_binary = (pred_ratings >= threshold).astype(int)\n",
    "    \n",
    "    accuracy = accuracy_score(true_binary, pred_binary)\n",
    "    f1 = f1_score(true_binary, pred_binary)\n",
    "    precision = precision_score(true_binary, pred_binary)\n",
    "    recall = recall_score(true_binary, pred_binary)\n",
    "    \n",
    "    return {\n",
    "        'Accuracy': accuracy,\n",
    "        'F1 Score': f1,\n",
    "        'Precision': precision,\n",
    "        'Recall': recall\n",
    "    }\n",
    "\n",
    "train_metrics = evaluate_model(model, train_loader)\n",
    "print(\"Train Metrics:\")\n",
    "for metric, value in train_metrics.items():\n",
    "    print(f\"{metric}: {value}\")\n",
    "\n",
    "val_metrics = evaluate_model(model, val_loader)\n",
    "print(\"\\nValidation Metrics:\")\n",
    "for metric, value in val_metrics.items():\n",
    "    print(f\"{metric}: {value}\")\n",
    "\n",
    "val_metrics = evaluate_model(model, test_loader)\n",
    "print(\"\\nTest Metrics:\")\n",
    "for metric, value in val_metrics.items():\n",
    "    print(f\"{metric}: {value}\")"
   ]
  },
  {
   "cell_type": "code",
   "execution_count": 136,
   "metadata": {},
   "outputs": [],
   "source": [
    "def get_recommendations(user_id, top_k=10):\n",
    "    model.eval()\n",
    "    with torch.no_grad():\n",
    "        rated_movies = set(ratings[ratings['user_id'] == user_id]['movie_id'].values)\n",
    "        out = model(train_data.x, train_data.edge_index, train_data.edge_attr)\n",
    "        user_embedding = out[user_id]\n",
    "        item_embeddings = out[num_users:num_users + num_items]\n",
    "        \n",
    "        scores = torch.matmul(user_embedding.unsqueeze(0), item_embeddings.t()).squeeze()\n",
    "        scores = scores.cpu().numpy()\n",
    "        \n",
    "        movie_scores = [(i, score) for i, score in enumerate(scores)]\n",
    "        unrated_movies = [(i, score) for i, score in movie_scores if i not in rated_movies]\n",
    "        \n",
    "        recommendations = sorted(unrated_movies, key=lambda x: x[1], reverse=True)[:top_k]\n",
    "        recommended_movies = []\n",
    "        for movie_id, score in recommendations:\n",
    "            movie_info = items[items['movie_id'] == movie_id].iloc[0]\n",
    "            recommended_movies.append({\n",
    "                'movie_id': int(movie_id),\n",
    "                'title': movie_info['movie_title'],\n",
    "                'score': float(score),\n",
    "                'genres': movie_info[genre_list].loc[movie_info[genre_list] == 1].index.tolist()\n",
    "            })\n",
    "            \n",
    "        return recommended_movies\n"
   ]
  },
  {
   "cell_type": "code",
   "execution_count": 137,
   "metadata": {},
   "outputs": [],
   "source": [
    "def display_recommendations(recommendations):\n",
    "    print(\"\\nTop Movie Recommendations:\")\n",
    "    print(\"-\" * 80)\n",
    "    print(\"Title                                             Predicted Rating    Genres\")\n",
    "    print(\"-\" * 80)\n",
    "    for rec in recommendations:\n",
    "        title = rec['title'][:47] + \"...\" if len(rec['title']) > 47 else rec['title']\n",
    "        title = title.ljust(50) \n",
    "        score = f\"{rec['score']:.2f}\".ljust(20)\n",
    "        genres = ', '.join(rec['genres'])\n",
    "        print(f\"{title}{score}{genres}\")\n"
   ]
  },
  {
   "cell_type": "code",
   "execution_count": 138,
   "metadata": {},
   "outputs": [
    {
     "name": "stdout",
     "output_type": "stream",
     "text": [
      "\n",
      "Top Movie Recommendations:\n",
      "--------------------------------------------------------------------------------\n",
      "Title                                             Predicted Rating    Genres\n",
      "--------------------------------------------------------------------------------\n",
      "Bloody Child, The (1996)                          6.45                Drama, Thriller\n",
      "Heavy (1995)                                      5.89                Drama, Romance\n",
      "Tough and Deadly (1995)                           5.25                Action, Drama, Thriller\n",
      "Tainted (1998)                                    4.83                Comedy, Thriller\n",
      "Stefano Quantestorie (1993)                       4.59                Comedy, Drama\n",
      "Reluctant Debutante, The (1958)                   4.59                Comedy, Drama\n",
      "Nothing Personal (1995)                           4.59                Drama, War\n",
      "Cyclo (1995)                                      4.44                Crime, Drama\n",
      "Angel on My Shoulder (1946)                       4.44                Crime, Drama\n",
      "Silence of the Lambs, The (1991)                  4.39                Drama, Thriller\n"
     ]
    }
   ],
   "source": [
    "user_id = 1\n",
    "recommendations = get_recommendations(user_id, top_k=10)\n",
    "display_recommendations(recommendations)"
   ]
  },
  {
   "cell_type": "code",
   "execution_count": 139,
   "metadata": {},
   "outputs": [],
   "source": [
    "from collections import Counter\n",
    "from sklearn.metrics.pairwise import cosine_similarity"
   ]
  },
  {
   "cell_type": "code",
   "execution_count": 140,
   "metadata": {},
   "outputs": [],
   "source": [
    "def evaluate_recommendations(user_id, top_k=10):\n",
    "    # Lấy recommendations cho user\n",
    "    recommendations = get_recommendations(user_id, top_k)\n",
    "    recommended_movie_ids = [rec['movie_id'] for rec in recommendations]\n",
    "    \n",
    "    # Lấy các đánh giá thực tế của user\n",
    "    user_ratings = ratings[ratings['user_id'] == user_id]\n",
    "    \n",
    "    # Tính toán các metrics\n",
    "    def calculate_similarity_metrics(rated_movies, recommended_movies):\n",
    "        # Lấy thông tin thể loại của phim\n",
    "        rated_genres = items[items['movie_id'].isin(rated_movies)][genre_list].mean()\n",
    "        recommended_genres = items[items['movie_id'].isin(recommended_movies)][genre_list].mean()\n",
    "        \n",
    "        # Tính cosine similarity giữa profile thể loại\n",
    "        genre_similarity = cosine_similarity([rated_genres], [recommended_genres])[0][0]\n",
    "        \n",
    "        return genre_similarity\n",
    "\n",
    "    # Lấy các phim được đánh giá cao (rating >= 4)\n",
    "    highly_rated = user_ratings[user_ratings['rating'] >= 4]['movie_id'].values\n",
    "    \n",
    "    # Tính genre similarity\n",
    "    genre_similarity = calculate_similarity_metrics(highly_rated, recommended_movie_ids)\n",
    "    \n",
    "    # Tính average rating của user\n",
    "    avg_user_rating = user_ratings['rating'].mean()\n",
    "    \n",
    "    # Phân tích các thể loại yêu thích\n",
    "    favorite_genres = []\n",
    "    for genre in genre_list:\n",
    "        genre_movies = items[items[genre] == 1]['movie_id']\n",
    "        genre_ratings = user_ratings[user_ratings['movie_id'].isin(genre_movies)]['rating']\n",
    "        if len(genre_ratings) > 0:\n",
    "            avg_genre_rating = genre_ratings.mean()\n",
    "            if avg_genre_rating >= 4:\n",
    "                favorite_genres.append((genre, avg_genre_rating))\n",
    "    \n",
    "    favorite_genres.sort(key=lambda x: x[1], reverse=True)\n",
    "    \n",
    "    # Phân tích recommendations\n",
    "    recommended_genres = []\n",
    "    for movie_id in recommended_movie_ids:\n",
    "        movie_genres = items[items['movie_id'] == movie_id][genre_list].iloc[0]\n",
    "        movie_genres = [genre for genre, has_genre in zip(genre_list, movie_genres) if has_genre == 1]\n",
    "        recommended_genres.extend(movie_genres)\n",
    "    \n",
    "    genre_counts = Counter(recommended_genres)\n",
    "    \n",
    "    return {\n",
    "        'user_id': user_id,\n",
    "        'average_rating': avg_user_rating,\n",
    "        'genre_similarity': genre_similarity,\n",
    "        'favorite_genres': favorite_genres[:3],  # Top 3 favorite genres\n",
    "        'recommended_genre_distribution': dict(genre_counts.most_common()),\n",
    "        'recommendations': recommendations\n",
    "    }\n",
    "\n",
    "def print_evaluation_results(eval_results):\n",
    "    print(f\"\\nEvaluation Results for User {eval_results['user_id']}\")\n",
    "    print(\"-\" * 50)\n",
    "    print(f\"Average Rating: {eval_results['average_rating']:.2f}\")\n",
    "    print(f\"Genre Similarity with Highly Rated Movies: {eval_results['genre_similarity']:.2f}\")\n",
    "    \n",
    "    print(\"\\nTop 3 Favorite Genres:\")\n",
    "    for genre, rating in eval_results['favorite_genres']:\n",
    "        print(f\"- {genre}: {rating:.2f}\")\n",
    "    \n",
    "    print(\"\\nRecommended Genre Distribution:\")\n",
    "    for genre, count in eval_results['recommended_genre_distribution'].items():\n",
    "        print(f\"- {genre}: {count}\")\n",
    "    \n",
    "    print(\"\\nRecommended Movies:\")\n",
    "    for i, movie in enumerate(eval_results['recommendations'], 1):\n",
    "        print(f\"{i}. {movie['title']} (Score: {movie['score']:.4f})\")\n"
   ]
  },
  {
   "cell_type": "code",
   "execution_count": 141,
   "metadata": {},
   "outputs": [
    {
     "name": "stdout",
     "output_type": "stream",
     "text": [
      "\n",
      "Evaluation Results for User 1\n",
      "--------------------------------------------------\n",
      "Average Rating: 3.71\n",
      "Genre Similarity with Highly Rated Movies: 0.90\n",
      "\n",
      "Top 3 Favorite Genres:\n",
      "- Firm-Noir: 4.50\n",
      "- Adventure: 4.33\n",
      "- Romance: 4.12\n",
      "\n",
      "Recommended Genre Distribution:\n",
      "- Drama: 9\n",
      "- Thriller: 4\n",
      "- Comedy: 3\n",
      "- Crime: 2\n",
      "- Romance: 1\n",
      "- Action: 1\n",
      "- War: 1\n",
      "\n",
      "Recommended Movies:\n",
      "1. Bloody Child, The (1996) (Score: 6.4475)\n",
      "2. Heavy (1995) (Score: 5.8924)\n",
      "3. Tough and Deadly (1995) (Score: 5.2532)\n",
      "4. Tainted (1998) (Score: 4.8317)\n",
      "5. Stefano Quantestorie (1993) (Score: 4.5899)\n",
      "6. Reluctant Debutante, The (1958) (Score: 4.5899)\n",
      "7. Nothing Personal (1995) (Score: 4.5898)\n",
      "8. Cyclo (1995) (Score: 4.4439)\n",
      "9. Angel on My Shoulder (1946) (Score: 4.4439)\n",
      "10. Silence of the Lambs, The (1991) (Score: 4.3853)\n"
     ]
    }
   ],
   "source": [
    "user_id = 1\n",
    "eval_results = evaluate_recommendations(user_id)\n",
    "print_evaluation_results(eval_results)"
   ]
  },
  {
   "cell_type": "code",
   "execution_count": 142,
   "metadata": {},
   "outputs": [
    {
     "name": "stdout",
     "output_type": "stream",
     "text": [
      "\n",
      "Overall Evaluation Results\n",
      "--------------------------------------------------\n",
      "Average Genre Similarity: 0.72\n",
      "Std Genre Similarity: 0.17\n"
     ]
    }
   ],
   "source": [
    "# Đánh giá tổng thể cho nhiều users\n",
    "def evaluate_multiple_users(num_users=10):\n",
    "    user_sample = np.random.choice(users['user_id'].unique(), num_users, replace=False)\n",
    "    overall_genre_similarity = []\n",
    "    \n",
    "    for user_id in user_sample:\n",
    "        eval_results = evaluate_recommendations(user_id)\n",
    "        overall_genre_similarity.append(eval_results['genre_similarity'])\n",
    "    \n",
    "    print(\"\\nOverall Evaluation Results\")\n",
    "    print(\"-\" * 50)\n",
    "    print(f\"Average Genre Similarity: {np.mean(overall_genre_similarity):.2f}\")\n",
    "    print(f\"Std Genre Similarity: {np.std(overall_genre_similarity):.2f}\")\n",
    "\n",
    "# Đánh giá cho nhiều users\n",
    "evaluate_multiple_users()"
   ]
  },
  {
   "cell_type": "code",
   "execution_count": 143,
   "metadata": {},
   "outputs": [],
   "source": [
    "torch.save(model.state_dict(), 'gcn_model.pth')"
   ]
  },
  {
   "cell_type": "code",
   "execution_count": 144,
   "metadata": {},
   "outputs": [
    {
     "data": {
      "text/plain": [
       "GCN(\n",
       "  (conv1): GCNConv(47, 256)\n",
       "  (conv2): GCNConv(256, 128)\n",
       "  (conv3): GCNConv(128, 256)\n",
       "  (dropout): Dropout(p=0.5, inplace=False)\n",
       ")"
      ]
     },
     "execution_count": 144,
     "metadata": {},
     "output_type": "execute_result"
    }
   ],
   "source": [
    "model = GCN(num_features=feature_matrix.shape[1], hidden_channels=hidden_channels)\n",
    "model.load_state_dict(torch.load('gcn_model.pth'))\n",
    "model.eval()\n"
   ]
  }
 ],
 "metadata": {
  "colab": {
   "provenance": []
  },
  "kernelspec": {
   "display_name": "Python 3",
   "language": "python",
   "name": "python3"
  },
  "language_info": {
   "codemirror_mode": {
    "name": "ipython",
    "version": 3
   },
   "file_extension": ".py",
   "mimetype": "text/x-python",
   "name": "python",
   "nbconvert_exporter": "python",
   "pygments_lexer": "ipython3",
   "version": "3.10.3"
  }
 },
 "nbformat": 4,
 "nbformat_minor": 0
}
